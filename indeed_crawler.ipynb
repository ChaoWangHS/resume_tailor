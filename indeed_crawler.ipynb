{
 "cells": [
  {
   "cell_type": "code",
   "execution_count": 7,
   "metadata": {
    "collapsed": false
   },
   "outputs": [],
   "source": [
    "from bs4 import BeautifulSoup\n",
    "import pandas as pd\n",
    "import re\n",
    "import time\n",
    "import os"
   ]
  },
  {
   "cell_type": "code",
   "execution_count": 5,
   "metadata": {
    "collapsed": true
   },
   "outputs": [],
   "source": [
    "import requests\n",
    "import socket\n",
    "import socks\n",
    "\n",
    "PORT = 1080\n",
    "# no authentication\n",
    "# socks.set_default_proxy(socks.SOCKS5, \"localhost\")\n",
    "# with Authentication\n",
    "socks.set_default_proxy(socks.SOCKS5, \"proxy-nl.privateinternetaccess.com\",PORT,True,\"x6122622\",\"ZzQCgNVhum\")\n",
    "socket.socket = socks.socksocket"
   ]
  },
  {
   "cell_type": "code",
   "execution_count": 47,
   "metadata": {
    "collapsed": true
   },
   "outputs": [],
   "source": [
    "def make_request(name):\n",
    "    url = 'http://www.indeed.com{0}'.format(name)\n",
    "    print(url)\n",
    "    html = requests.get(url)\n",
    "    data = html.text\n",
    "    #text = BeautifulSoup(html.text, 'lxml')\n",
    "    #print(text)\n",
    "    #print(data.status_code)\n",
    "    #print(data.url)\n",
    "    \n",
    "    soup = BeautifulSoup(data, 'html.parser')\n",
    "    return soup"
   ]
  },
  {
   "cell_type": "code",
   "execution_count": 59,
   "metadata": {
    "collapsed": false
   },
   "outputs": [],
   "source": [
    "df = pd.read_csv('data/engineer_temp.csv', names=['name', 'x'])\n",
    "del df['x']\n",
    "\n",
    "name = df.iloc[0]['name']\n",
    "url = 'http://www.indeed.com{0}'.format(name)\n",
    "\n",
    "resume = requests.get(url, stream=True)\n",
    "        \n",
    "with open('test.pdf', 'wb') as f:\n",
    "    for chunk in resume.iter_content(512):\n",
    "        f.write(chunk)"
   ]
  },
  {
   "cell_type": "code",
   "execution_count": 55,
   "metadata": {
    "collapsed": false
   },
   "outputs": [],
   "source": [
    "def indeed_crawler():\n",
    "    '''\n",
    "    Indeed Resume Crawler Function\n",
    "    '''\n",
    "    url = 'http://www.indeed.com{0}'.format(name)\n",
    "    r = requests.get(url)\n",
    "    data = r.text\n",
    "    \n",
    "    print(r.status_code)\n",
    "    print(r.url)\n",
    "    \n",
    "    soup = BeautifulSoup(data, 'html.parser')\n",
    "    for a in soup.find('ol').find_all('a', href=re.compile('/r/.+/.+')):\n",
    "        link = re.sub('\\?.+', '', a['href'])\n",
    "        file_name = re.search('/r/(.+)/.+', a['href']).group(1) + '.pdf'\n",
    "        url = \"http://www.indeed.com\" + link + '/pdf'\n",
    "        \n",
    "        print(url)\n",
    "        print('Downloading {}'.format(file_name))\n",
    "        \n",
    "        resume = requests.get(url, stream=True)\n",
    "        \n",
    "        with open(file_name, 'wb') as f:\n",
    "            for chunk in resume.iter_content(512):\n",
    "                f.write(chunk)"
   ]
  },
  {
   "cell_type": "code",
   "execution_count": 57,
   "metadata": {
    "collapsed": false
   },
   "outputs": [],
   "source": [
    "# indeed_crawler()"
   ]
  },
  {
   "cell_type": "code",
   "execution_count": null,
   "metadata": {
    "collapsed": false
   },
   "outputs": [],
   "source": [
    "def indeed_crawler(query, location, start):\n",
    "    '''\n",
    "    Indeed Resume Crawler Function\n",
    "    '''\n",
    "    payload = dict()\n",
    "    payload['q'] = query\n",
    "    \n",
    "    if location != 'None':\n",
    "        payload['l'] = location\n",
    "    \n",
    "    if start > 0:\n",
    "        payload['start'] = start * 50\n",
    "    \n",
    "    for k, v in payload.items():\n",
    "        print(k, v)\n",
    "    \n",
    "    r = requests.get('http://www.indeed.com/resumes', params=payload)\n",
    "    data = r.text\n",
    "    \n",
    "    print(r.status_code)\n",
    "    print(r.url)\n",
    "    \n",
    "    soup = BeautifulSoup(data, 'html.parser')\n",
    "    for a in soup.find('ol').find_all('a', href=re.compile('/r/.+/.+')):\n",
    "        link = re.sub('\\?.+', '', a['href'])\n",
    "        file_name = re.search('/r/(.+)/.+', a['href']).group(1) + '.pdf'\n",
    "        url = \"http://www.indeed.com\" + link + '/pdf'\n",
    "        \n",
    "        print(url)\n",
    "        print('Downloading {}'.format(file_name))\n",
    "        \n",
    "        resume = requests.get(url, stream=True)\n",
    "        \n",
    "        with open(file_name, 'wb') as f:\n",
    "            for chunk in resume.iter_content(512):\n",
    "                f.write(chunk)"
   ]
  },
  {
   "cell_type": "code",
   "execution_count": null,
   "metadata": {
    "collapsed": true
   },
   "outputs": [],
   "source": [
    "def resume_downloader(query, location, pages):\n",
    "    \"\"\"Download resumes in batch.\"\"\"\n",
    "    for i in range(0, pages, 1):\n",
    "        print(i)\n",
    "        indeed_crawler(query, location, i)\n",
    "        time.sleep(5)"
   ]
  },
  {
   "cell_type": "code",
   "execution_count": 4,
   "metadata": {
    "collapsed": false
   },
   "outputs": [],
   "source": [
    "# make pdf folder to store results\n",
    "folders = ['data/pdfs', 'data/text']\n",
    "\n",
    "for folder in folders:\n",
    "    if not os.path.exists(folder): os.makedirs(folder)"
   ]
  },
  {
   "cell_type": "markdown",
   "metadata": {},
   "source": [
    "# Call the crawler"
   ]
  },
  {
   "cell_type": "code",
   "execution_count": null,
   "metadata": {
    "collapsed": false
   },
   "outputs": [],
   "source": [
    "resume_downloader('mechanical engineer', 'None', 1)"
   ]
  },
  {
   "cell_type": "code",
   "execution_count": 19,
   "metadata": {
    "collapsed": false
   },
   "outputs": [
    {
     "name": "stdout",
     "output_type": "stream",
     "text": [
      "dst\n",
      "/Users/bryant/Documents/fletcher-04/data/pdf\n"
     ]
    }
   ],
   "source": [
    "import shutil\n",
    "import fnmatch\n",
    "\n",
    "def gen_find(filepat,top):\n",
    "    for path, dirlist, filelist in os.walk(top):\n",
    "        for name in fnmatch.filter(filelist,filepat):\n",
    "            yield os.path.join(path,name)\n",
    "\n",
    "src = os.getcwd()\n",
    "dst = '{0}/data/pdf'.format(src) \n",
    "print('dst')\n",
    "print(dst)\n",
    "filesToMove = gen_find('*.pdf',src)\n",
    "for name in filesToMove:\n",
    "    shutil.move(name, dst)"
   ]
  },
  {
   "cell_type": "code",
   "execution_count": null,
   "metadata": {
    "collapsed": true
   },
   "outputs": [],
   "source": []
  },
  {
   "cell_type": "code",
   "execution_count": 8,
   "metadata": {
    "collapsed": false
   },
   "outputs": [],
   "source": [
    "import PyPDF2\n",
    "def pdf_to_txt(infile, outdirectory):    \n",
    "    pdfFileObj = open('divya-java.pdf','rb')\n",
    "    pdfReader = PyPDF2.PdfFileReader(pdfFileObj)\n",
    "    num = pdfReader.numPages\n",
    "\n",
    "    for i in range(num):\n",
    "        pageObj = pdfReader.getPage(i)          #'9' is the page number\n",
    "        page = pageObj.extractText()\n",
    "        with open('{0}/{1}.txt', 'a') as outfile:\n",
    "            outfile.write(page)"
   ]
  },
  {
   "cell_type": "code",
   "execution_count": 40,
   "metadata": {
    "collapsed": false
   },
   "outputs": [],
   "source": [
    "import httplib2\n",
    "import socket \n",
    "import socks \n",
    "\n",
    "port = 9050 \n",
    "url = 'http://my-ip.heroku.com' \n",
    "\n",
    "def connectTor():     \n",
    "    socks.setdefaultproxy(socks.PROXY_TYPE_SOCKS5, \"127.0.0.1\", port, True)     \n",
    "    socket.socket = socks.socksocket "
   ]
  },
  {
   "cell_type": "code",
   "execution_count": 41,
   "metadata": {
    "collapsed": true
   },
   "outputs": [],
   "source": [
    "def main():     \n",
    "    connectTor()     \n",
    "    print(\"Connected to Tor\")     \n",
    "    conn = httplib2.Http()\n",
    "    resp, content = conn.request(url)\n",
    "  \n",
    "    print(resp.read())"
   ]
  },
  {
   "cell_type": "code",
   "execution_count": null,
   "metadata": {
    "collapsed": true
   },
   "outputs": [],
   "source": []
  }
 ],
 "metadata": {
  "anaconda-cloud": {},
  "kernelspec": {
   "display_name": "Python 3",
   "language": "python",
   "name": "python3"
  },
  "language_info": {
   "codemirror_mode": {
    "name": "ipython",
    "version": 3
   },
   "file_extension": ".py",
   "mimetype": "text/x-python",
   "name": "python",
   "nbconvert_exporter": "python",
   "pygments_lexer": "ipython3",
   "version": "3.5.2"
  }
 },
 "nbformat": 4,
 "nbformat_minor": 0
}
