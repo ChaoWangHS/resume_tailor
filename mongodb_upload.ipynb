{
 "cells": [
  {
   "cell_type": "code",
   "execution_count": 1,
   "metadata": {
    "collapsed": true
   },
   "outputs": [],
   "source": [
    "from pymongo import MongoClient\n",
    "from pprint import pprint\n",
    "import csv\n",
    "import glob\n",
    "import re\n",
    "import os"
   ]
  },
  {
   "cell_type": "markdown",
   "metadata": {},
   "source": [
    "# Credentials"
   ]
  },
  {
   "cell_type": "code",
   "execution_count": 2,
   "metadata": {
    "collapsed": true
   },
   "outputs": [],
   "source": [
    "pw_file = 'pw.txt'\n",
    "if os.path.exists(pw_file): \n",
    "    with open(pw_file, 'r') as f:\n",
    "        email, indeed_pw = f.readline().strip().split(', ')\n",
    "        username, pia_pw = f.readline().strip().split(', ')\n",
    "        pub_ip, mongo_usr, mongo_usr_pw = f.readline().strip().split(', ')"
   ]
  },
  {
   "cell_type": "markdown",
   "metadata": {},
   "source": [
    "# Connect to DB"
   ]
  },
  {
   "cell_type": "code",
   "execution_count": 3,
   "metadata": {
    "collapsed": false
   },
   "outputs": [],
   "source": [
    "# connect to ec2 mongo client\n",
    "client = MongoClient('{0}:27017'.format(pub_ip))\n"
   ]
  },
  {
   "cell_type": "code",
   "execution_count": 4,
   "metadata": {
    "collapsed": false
   },
   "outputs": [],
   "source": [
    "# get reference to  resume_db\n",
    "db = client.resume_db"
   ]
  },
  {
   "cell_type": "code",
   "execution_count": 5,
   "metadata": {
    "collapsed": false
   },
   "outputs": [
    {
     "data": {
      "text/plain": [
       "True"
      ]
     },
     "execution_count": 5,
     "metadata": {},
     "output_type": "execute_result"
    }
   ],
   "source": [
    "# authenticate user for database\n",
    "db.authenticate(mongo_usr, mongo_usr_pw)"
   ]
  },
  {
   "cell_type": "markdown",
   "metadata": {},
   "source": [
    "# Create Collection"
   ]
  },
  {
   "cell_type": "code",
   "execution_count": 6,
   "metadata": {
    "collapsed": false
   },
   "outputs": [],
   "source": [
    "# create a collection call 'originals'\n",
    "if 'originals' not in db.collection_names():\n",
    "    db.create_collection('originals')"
   ]
  },
  {
   "cell_type": "markdown",
   "metadata": {},
   "source": [
    "# Get list of search terms that were saved"
   ]
  },
  {
   "cell_type": "code",
   "execution_count": 7,
   "metadata": {
    "collapsed": true
   },
   "outputs": [],
   "source": [
    "def search_terms():\n",
    "    all_files = glob.glob('data/txt/*.txt')\n",
    "    all_files = [x[9:] for x in all_files]\n",
    "    terms = [re.search('(.*?)\\_[0-9]+\\.txt',x).group(1) for x in all_files]\n",
    "    terms = set(terms)\n",
    "    return list(terms)"
   ]
  },
  {
   "cell_type": "code",
   "execution_count": 8,
   "metadata": {
    "collapsed": false
   },
   "outputs": [
    {
     "data": {
      "text/plain": [
       "['engineer', 'scientist', 'analytics', 'data', 'big_data', 'data_analysis']"
      ]
     },
     "execution_count": 8,
     "metadata": {},
     "output_type": "execute_result"
    }
   ],
   "source": [
    "search_terms()"
   ]
  },
  {
   "cell_type": "markdown",
   "metadata": {},
   "source": [
    "# Get data that will be stored in DB"
   ]
  },
  {
   "cell_type": "code",
   "execution_count": 9,
   "metadata": {
    "collapsed": true
   },
   "outputs": [],
   "source": [
    "def get_linkid_list(term):\n",
    "    # reference csv file based on term\n",
    "    csv_file = 'data/{0}.csv'.format(term)\n",
    "    \n",
    "    # open file and extract links to list\n",
    "    with open('{0}'.format(csv_file), 'rt') as f:\n",
    "        return [row[0] for row in csv.reader(f)]"
   ]
  },
  {
   "cell_type": "code",
   "execution_count": 10,
   "metadata": {
    "collapsed": false
   },
   "outputs": [
    {
     "data": {
      "text/plain": [
       "['/r/2b5b06cff39ce808?',\n",
       " '/r/8fe4de80947b60f2?',\n",
       " '/r/9c6eeb04e6963d6b?',\n",
       " '/r/acbcc02f2044b655?',\n",
       " '/r/6d757143003b8a7b?']"
      ]
     },
     "execution_count": 10,
     "metadata": {},
     "output_type": "execute_result"
    }
   ],
   "source": [
    "get_linkid_list('engineer')[:5]"
   ]
  },
  {
   "cell_type": "markdown",
   "metadata": {},
   "source": [
    "# Upsert Document (Insert/Update)"
   ]
  },
  {
   "cell_type": "code",
   "execution_count": 11,
   "metadata": {
    "collapsed": true
   },
   "outputs": [],
   "source": [
    "def upsert_doc(collection, link_id, term, res_txt):\n",
    "    '''\n",
    "    collection: mongodb collection data will be upserted into\n",
    "    link_id: unique id for users resume online\n",
    "    term: term searched when resume was found\n",
    "    res_text: text only from resume\n",
    "    '''\n",
    "    db[collection].update_one({\n",
    "        'link_id': link_id,\n",
    "    }, \n",
    "    {\n",
    "        '$set':{\n",
    "            'search_term': term,\n",
    "            'resume_text': res_txt,\n",
    "        }\n",
    "    }, upsert=True\n",
    "    )\n",
    "\n",
    "    return None"
   ]
  },
  {
   "cell_type": "markdown",
   "metadata": {},
   "source": [
    "# Get Files Associated to Search Term"
   ]
  },
  {
   "cell_type": "code",
   "execution_count": 12,
   "metadata": {
    "collapsed": false
   },
   "outputs": [],
   "source": [
    "def txt_files(term):\n",
    "    '''\n",
    "    term: search term that resume text files being with\n",
    "    returns => list of tuples in form of (resume text, resume text digit)\n",
    "    '''\n",
    "    all_files = glob.glob('data/txt/*.txt')\n",
    "    all_files = [x[9:] for x in all_files]\n",
    "    \n",
    "    files = [x for x in all_files if x[:len(term)] == term]\n",
    "    digs = [re.search(r'\\d+',x).group(0) for x in files]\n",
    "\n",
    "    return list(zip(files, digs))"
   ]
  },
  {
   "cell_type": "code",
   "execution_count": 13,
   "metadata": {
    "collapsed": false
   },
   "outputs": [
    {
     "data": {
      "text/plain": [
       "[('engineer_0.txt', '0'),\n",
       " ('engineer_1.txt', '1'),\n",
       " ('engineer_10.txt', '10'),\n",
       " ('engineer_100.txt', '100'),\n",
       " ('engineer_101.txt', '101')]"
      ]
     },
     "execution_count": 13,
     "metadata": {},
     "output_type": "execute_result"
    }
   ],
   "source": [
    "txt_files('engineer')[:5]"
   ]
  },
  {
   "cell_type": "markdown",
   "metadata": {},
   "source": [
    "# Mass Upload Function"
   ]
  },
  {
   "cell_type": "code",
   "execution_count": 14,
   "metadata": {
    "collapsed": true
   },
   "outputs": [],
   "source": [
    "def insert_doc():\n",
    "    # loop through search terms used \n",
    "    for term in search_terms():\n",
    "        \n",
    "        # get linked ids in search term list\n",
    "        link_ids = get_linkid_list(term)\n",
    "        \n",
    "        # loop through list text resumes for given term\n",
    "        for res_file, res_dig in txt_files(term):\n",
    "            \n",
    "            # open resume text file\n",
    "            with open('data/txt/{0}'.format(res_file)) as infile:\n",
    "                res_txt = infile.read()\n",
    "\n",
    "                # upsert resume to database\n",
    "                upsert_doc('originals', link_ids[int(res_dig)], term, res_txt)"
   ]
  },
  {
   "cell_type": "code",
   "execution_count": 15,
   "metadata": {
    "collapsed": false
   },
   "outputs": [],
   "source": [
    "##########################################\n",
    "##########################################\n",
    "##########################################\n",
    "# insert_doc()\n",
    "##########################################\n",
    "##########################################\n",
    "##########################################"
   ]
  },
  {
   "cell_type": "markdown",
   "metadata": {},
   "source": [
    "# View a Few Entries"
   ]
  },
  {
   "cell_type": "code",
   "execution_count": 16,
   "metadata": {
    "collapsed": false
   },
   "outputs": [
    {
     "name": "stdout",
     "output_type": "stream",
     "text": [
      "{'_id': ObjectId('57b217037e4a2ee6bc8639ca'),\n",
      " 'link_id': '/r/2b5b06cff39ce808?',\n",
      " 'resume_text': 'Petros Gazazyan North Hollywood, CA Werkervaring DESIGN '\n",
      "                'ENGINEER, STRUCTURAL TTG Engineer Pasadena, CA december 2015 '\n",
      "                'tot heden Designed nonstructural equipment anchorage for '\n",
      "                'major southern California hospitals in accordance with ASCE, '\n",
      "                'CBC and other local codes set forth by the Office of '\n",
      "                'Statewide Planning and Development Gained extensive knowledge '\n",
      "                'and experience in engineering programs for design including '\n",
      "                'Enercalc, ETABS, and Hilti Profis for the design of remodel '\n",
      "                'of buildings beams, columns, and foundations Surveyed area of '\n",
      "                'work to be remodeled and inspected physical work after '\n",
      "                'remodel to ensure work is done according to design CIVIL '\n",
      "                'ENGINEERING STUDENT WORKER Los Angeles County Department of '\n",
      "                'Public Works Alhambra, CA september 2014 tot december 2015 '\n",
      "                'Worked alongside engineers to meet the publics needs in the '\n",
      "                'transportation infrastructure project development division '\n",
      "                'with the highest standards throughout all of Los Angeles '\n",
      "                'county Assisted engineers and project managers with '\n",
      "                'geographic presentation of data and mapping design using GIS '\n",
      "                'systems Prepared engineering reports and documents to fund '\n",
      "                'multimillion dollar projects through the use of Microsoft '\n",
      "                'Word, Excel Access, worked concurrently on multiple projects '\n",
      "                'Bikeway Coordination Disaster Reimbursement Opleiding '\n",
      "                \"Bachelor's in Civil Engineering California State University \"\n",
      "                'Northridge Northridge, CA 2012 tot 2015',\n",
      " 'search_term': 'engineer'}\n",
      "{'_id': ObjectId('57b217037e4a2ee6bc8639cb'),\n",
      " 'link_id': '/r/8fe4de80947b60f2?',\n",
      " 'resume_text': 'Travis London Java Software Engineer Tucson, AZ Bereid overal '\n",
      "                'naartoe te verhuizen. Werkervaring Engineer Contract Senior '\n",
      "                'Software Engineer Tucson, AZ september 2015 tot heden A '\n",
      "                'spinoff of a Mentor Graphics division. As a contract software '\n",
      "                'engineer for ONE FACT, my work has been a continuation of '\n",
      "                'service for the family of customers that stem from my prior '\n",
      "                'employment with Mentor Graphics. Senior Software Engineer '\n",
      "                'MENTOR GRAPHICS Wilsonville, OR mei 2003 tot september 2015 '\n",
      "                'Almost all of my key accomplishments and abilities were '\n",
      "                'gained during my tenor at Mentor Graphics, a great '\n",
      "                'organization that I thoroughly enjoyed being a part of. In '\n",
      "                '2015, however, the company made the strategic decision to go '\n",
      "                'open source with the modeling tools our group created, '\n",
      "                'implemented and supported and contracted out all further '\n",
      "                'development. As an outcome, the business ONE FACT was created '\n",
      "                'to continue providing software support to existing clients. '\n",
      "                'System Administrator PROJECT TECHNOLOGY Tucson, AZ juni 2001 '\n",
      "                'tot mei 2003 Acquired by Mentor Graphics Hired in as a young '\n",
      "                'geek out of high school for an IT Administrator position '\n",
      "                'building maintaining networks and configuring management '\n",
      "                'systems, I soon moved into software testing. During the time '\n",
      "                'at Project Technology I was moved from testing to Engineer, I '\n",
      "                'helped lead a movement from an old C C++ based tool to an '\n",
      "                'Eclipse Java complete rewrite of the tool. This move included '\n",
      "                'me designing a nightly build system written in shell script '\n",
      "                'as well as Ant script. We as a team bootstrapped the tool and '\n",
      "                'began building our tool using our tool \"eating our own dog '\n",
      "                'food\". Additionally, at this time I worked to introduce a j '\n",
      "                'unit infrastructure. Then in May 2003, Project Technology was '\n",
      "                'acquired by Mentor Graphics. Vaardigheden Java , Eclipse , '\n",
      "                'Ant , Shell Scripting , Change Management , Process '\n",
      "                'Development , Linux , Windows , MySQL , C , C++ , System '\n",
      "                'Administration , Bugzilla , SQL , Documentation , UML Links '\n",
      "                'http: www.linkedin.com in londontravis https: '\n",
      "                'chroniclevitae.com people 672104 travis london profile '\n",
      "                'Aanvullende Informatie Below are some of my accomplishments, '\n",
      "                'though not exhaustive: Designed and worked with xtUML, an '\n",
      "                'executable form of UML. The tool I helped build from the '\n",
      "                'ground up can be seen here: http: www.xtuml.org. I traveled '\n",
      "                'to Budapest and solely designed and implemented a graphical '\n",
      "                'diagram using GMF for an AUTOSAR tool owned by Mentor '\n",
      "                \"Graphics. Moved the xtUML eclipse based tool's graphical \"\n",
      "                'canvas to a newly implemented canvas based on GEF. Designed '\n",
      "                'and implemented an interactive graphical tree compare and '\n",
      "                'merge tool for xtUML models. I traveled to Croatia to support '\n",
      "                'a large customer to help train for usage of the above compare '\n",
      "                'tool and modeling in general.',\n",
      " 'search_term': 'engineer'}\n",
      "{'_id': ObjectId('57b217037e4a2ee6bc8639cc'),\n",
      " 'link_id': '/r/1c009e8f7e2f5309?',\n",
      " 'resume_text': 'Stephen A. Kraft Mechanical Engineer Seattle, WA Bereid '\n",
      "                'overal naartoe te verhuizen. Werkervaring Product Design '\n",
      "                'Engineer Best Metal Products Grand Rapids, MI juni 2015 tot '\n",
      "                'heden Design hydraulic cylinders using engineering principles '\n",
      "                'to meet customer and supplier requirements. Follow predefined '\n",
      "                'processes and standards to develop and design hydraulic '\n",
      "                'cylinders. Perform cost analysis on design to ensure company '\n",
      "                'profit and customer cost efficiency. Demonstrate the ability '\n",
      "                'to trouble shoot manufacturing and design issues. Manage '\n",
      "                'design assignments as well as projects to meet customer and '\n",
      "                'company deadlines. Research and develop cushion cylinders to '\n",
      "                'implement company design methods and standards. Design '\n",
      "                'Engineer VCI Inc. Sturgis, MI december 2013 tot mei 2015 '\n",
      "                'Designed racking systems for the automotive industry where '\n",
      "                'multiple engineering principles were practiced. Designed for '\n",
      "                'manufacturing with understanding of capabilities and '\n",
      "                'limitations of facilities. Practiced program management '\n",
      "                'including resource distribution, planning, and prompt project '\n",
      "                'completion. Developed quality control plans to ensure a '\n",
      "                'consistent and accurate product. Experienced environments '\n",
      "                'where lean manufacturing and just in time manufacturing were '\n",
      "                'critical. Opleiding Bachelor of Science in Engineering in '\n",
      "                'Mechanical Engineering ABET Calvin College Grand Rapids, MI '\n",
      "                '2009 tot 2013 Vaardigheden Catia V5 , Solidworks , Autocad '\n",
      "                'Inventor , Microsoft Office , E2 ERP Program , Epicor ERP '\n",
      "                'Program , EES Engineering Equation Solver ',\n",
      " 'search_term': 'engineer'}\n"
     ]
    }
   ],
   "source": [
    "col = db['originals'].find().limit(3)\n",
    "\n",
    "for doc in col:\n",
    "    pprint(doc)"
   ]
  },
  {
   "cell_type": "markdown",
   "metadata": {
    "collapsed": false
   },
   "source": [
    "# Notes Below"
   ]
  },
  {
   "cell_type": "code",
   "execution_count": 17,
   "metadata": {
    "collapsed": false
   },
   "outputs": [
    {
     "ename": "SyntaxError",
     "evalue": "invalid syntax (<ipython-input-17-a8f2c0e30b80>, line 1)",
     "output_type": "error",
     "traceback": [
      "\u001b[0;36m  File \u001b[0;32m\"<ipython-input-17-a8f2c0e30b80>\"\u001b[0;36m, line \u001b[0;32m1\u001b[0m\n\u001b[0;31m    break here\u001b[0m\n\u001b[0m             ^\u001b[0m\n\u001b[0;31mSyntaxError\u001b[0m\u001b[0;31m:\u001b[0m invalid syntax\n"
     ]
    }
   ],
   "source": [
    "break here"
   ]
  },
  {
   "cell_type": "code",
   "execution_count": null,
   "metadata": {
    "collapsed": false
   },
   "outputs": [],
   "source": [
    "# insert document (WITH prior existence checking, \n",
    "# if it did already exist it will be updated with the values under $set)\n",
    "\n",
    "db['originals'].update_one({\n",
    "        'link_id': link_ids[0],\n",
    "    }, \n",
    "    {\n",
    "        '$set':{\n",
    "            'search_term': search_terms()[-1],\n",
    "            'resume_text': res_txt,\n",
    "        }\n",
    "    }, upsert=True\n",
    ")"
   ]
  },
  {
   "cell_type": "code",
   "execution_count": null,
   "metadata": {
    "collapsed": false
   },
   "outputs": [],
   "source": [
    "# insert document (without prior existence checking)\n",
    "res = db['originals'].insert_one(\n",
    "    {\n",
    "        'search_term': term,\n",
    "        'link_id':link_ids[0],\n",
    "        'resume_text': res_txt\n",
    "    }\n",
    ")\n",
    "\n",
    "res.inserted_id"
   ]
  },
  {
   "cell_type": "markdown",
   "metadata": {},
   "source": [
    "# Show Documents in Collection 'originals'"
   ]
  },
  {
   "cell_type": "code",
   "execution_count": null,
   "metadata": {
    "collapsed": false
   },
   "outputs": [],
   "source": [
    "col = db['originals'].find()\n",
    "\n",
    "for doc in col:\n",
    "    pprint(doc)"
   ]
  },
  {
   "cell_type": "markdown",
   "metadata": {},
   "source": [
    "# Drop Collection"
   ]
  },
  {
   "cell_type": "code",
   "execution_count": null,
   "metadata": {
    "collapsed": true
   },
   "outputs": [],
   "source": [
    "db['originals'].drop()"
   ]
  },
  {
   "cell_type": "code",
   "execution_count": null,
   "metadata": {
    "collapsed": true
   },
   "outputs": [],
   "source": [
    "for doc in cursor:\n",
    "    pprint(document)"
   ]
  }
 ],
 "metadata": {
  "kernelspec": {
   "display_name": "Python 3",
   "language": "python",
   "name": "python3"
  },
  "language_info": {
   "codemirror_mode": {
    "name": "ipython",
    "version": 3
   },
   "file_extension": ".py",
   "mimetype": "text/x-python",
   "name": "python",
   "nbconvert_exporter": "python",
   "pygments_lexer": "ipython3",
   "version": "3.5.2"
  }
 },
 "nbformat": 4,
 "nbformat_minor": 1
}
