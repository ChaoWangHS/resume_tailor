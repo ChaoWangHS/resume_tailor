{
 "cells": [
  {
   "cell_type": "code",
   "execution_count": 1,
   "metadata": {
    "collapsed": false
   },
   "outputs": [],
   "source": [
    "'''\n",
    "from selenium import webdriver\n",
    "from selenium.webdriver.common.keys import Keys\n",
    "from selenium.webdriver.common.desired_capabilities import DesiredCapabilities\n",
    "'''\n",
    "\n",
    "import html5lib\n",
    "from bs4 import BeautifulSoup\n",
    "import re\n",
    "import os\n",
    "import csv\n",
    "from time import sleep"
   ]
  },
  {
   "cell_type": "markdown",
   "metadata": {},
   "source": [
    "# Behind SOCKS5 Proxy"
   ]
  },
  {
   "cell_type": "code",
   "execution_count": 2,
   "metadata": {
    "collapsed": true
   },
   "outputs": [],
   "source": [
    "import requests\n",
    "import socket\n",
    "import socks\n",
    "\n",
    "PORT = 1080\n",
    "\n",
    "# no authentication\n",
    "# socks.set_default_proxy(socks.SOCKS5, \"localhost\")\n",
    "\n",
    "# with Authentication\n",
    "socks.set_default_proxy(socks.SOCKS5, \"proxy-nl.privateinternetaccess.com\",PORT,True,\"x6122622\",\"CrFQdE3Uab\")\n",
    "socket.socket = socks.socksocket"
   ]
  },
  {
   "cell_type": "markdown",
   "metadata": {},
   "source": [
    "# Load Data ID's"
   ]
  },
  {
   "cell_type": "code",
   "execution_count": 74,
   "metadata": {
    "collapsed": false
   },
   "outputs": [],
   "source": [
    "def csv_to_list(file):\n",
    "    with open('{0}'.format(file), 'rt') as f:\n",
    "        return [row[0] for row in csv.reader(f)]"
   ]
  },
  {
   "cell_type": "markdown",
   "metadata": {},
   "source": [
    "# Download Resumes"
   ]
  },
  {
   "cell_type": "code",
   "execution_count": 80,
   "metadata": {
    "collapsed": false
   },
   "outputs": [],
   "source": [
    "def html_to_text(id_name):\n",
    "    url = 'http://www.indeed.com{0}co=us/pdf'.format(id_name)\n",
    "    print(url)\n",
    "    html = requests.get(url, stream=True)\n",
    "    data = html.text.encode('utf-8').decode('ascii', 'ignore')\n",
    "    soup = BeautifulSoup(data, 'lxml')\n",
    "\n",
    "    # get only resume content\n",
    "    res = soup.find('div', {'id': 'resume'})\n",
    "    res = \" \".join(res.strings)\n",
    "\n",
    "    # cleaning (may need to move to own function)\n",
    "    cleaner = ['\\xa0', '    ', '  -  ']\n",
    "    for c in cleaner:\n",
    "        res = res.replace(c,'')\n",
    "    \n",
    "    return res"
   ]
  },
  {
   "cell_type": "code",
   "execution_count": 81,
   "metadata": {
    "collapsed": true
   },
   "outputs": [],
   "source": [
    "def download_text(title):\n",
    "    csv_file = 'data/{0}.csv'.format(title)\n",
    "    print(csv_file)\n",
    "    \n",
    "    if os.path.isfile(csv_file):\n",
    "        # loop through name id's\n",
    "        name_ids = csv_to_list(csv_file)\n",
    "        for i,name in enumerate(name_ids):\n",
    "        \n",
    "            # get resume as text file\n",
    "            text_res = html_to_text(name)\n",
    "            ofile = 'data/pdfs/{0}_{1}.txt'.format(title, i)\n",
    "            with open(ofile, 'w') as f:\n",
    "                    f.write(text_res)\n",
    "            \n",
    "            length = len(name_ids) - i\n",
    "            print('{0} reamining'.format(length))"
   ]
  },
  {
   "cell_type": "code",
   "execution_count": null,
   "metadata": {
    "collapsed": false
   },
   "outputs": [
    {
     "name": "stdout",
     "output_type": "stream",
     "text": [
      "data/engineer.csv\n",
      "http://www.indeed.com/r/2b5b06cff39ce808?co=us/pdf\n",
      "http://www.indeed.com/r/8fe4de80947b60f2?co=us/pdf\n",
      "http://www.indeed.com/r/9c6eeb04e6963d6b?co=us/pdf\n",
      "http://www.indeed.com/r/acbcc02f2044b655?co=us/pdf\n",
      "http://www.indeed.com/r/6d757143003b8a7b?co=us/pdf\n",
      "http://www.indeed.com/r/2cb4acba17794174?co=us/pdf\n",
      "http://www.indeed.com/r/ddb616c36d532de3?co=us/pdf\n",
      "http://www.indeed.com/r/f03c234aaff38997?co=us/pdf\n",
      "http://www.indeed.com/r/fcd4b21a0ad8e28c?co=us/pdf\n",
      "http://www.indeed.com/r/b2dd44fb646b3c2c?co=us/pdf\n",
      "http://www.indeed.com/r/1c009e8f7e2f5309?co=us/pdf\n",
      "http://www.indeed.com/r/beb0af9ae3c5a4ce?co=us/pdf\n",
      "http://www.indeed.com/r/4feea7a69ab74b9e?co=us/pdf\n",
      "http://www.indeed.com/r/5b165ca433e5dffc?co=us/pdf\n",
      "http://www.indeed.com/r/312348c3980a57af?co=us/pdf\n",
      "http://www.indeed.com/r/0fcd150d56bf8f54?co=us/pdf\n",
      "http://www.indeed.com/r/70b98792c31a9b25?co=us/pdf\n",
      "http://www.indeed.com/r/b02082ffe8681726?co=us/pdf\n",
      "http://www.indeed.com/r/9741f95fbcd9fab7?co=us/pdf\n",
      "http://www.indeed.com/r/952287aef14626c8?co=us/pdf\n",
      "http://www.indeed.com/me/stevesigg?co=us/pdf\n",
      "http://www.indeed.com/r/3d505b007fc7db71?co=us/pdf\n",
      "http://www.indeed.com/r/a6034288d3df0531?co=us/pdf\n",
      "http://www.indeed.com/r/53a9d581661d4560?co=us/pdf\n",
      "http://www.indeed.com/r/d343fda31431adc9?co=us/pdf\n",
      "http://www.indeed.com/r/43b8ce3756ee1533?co=us/pdf\n",
      "http://www.indeed.com/r/c4921a946b7dbe96?co=us/pdf\n",
      "http://www.indeed.com/r/f65dc16a7544b5d1?co=us/pdf\n",
      "http://www.indeed.com/r/c2b99355fe81ca48?co=us/pdf\n",
      "http://www.indeed.com/r/ed250d3db3cf3201?co=us/pdf\n",
      "http://www.indeed.com/r/41fd4171b7a630e7?co=us/pdf\n",
      "http://www.indeed.com/r/602867215dcdc6b3?co=us/pdf\n",
      "http://www.indeed.com/r/eabec5f052af793d?co=us/pdf\n",
      "http://www.indeed.com/r/cc3be0dfedf740a7?co=us/pdf\n",
      "http://www.indeed.com/r/4675268e3fbba0ed?co=us/pdf\n",
      "http://www.indeed.com/r/cb3a57bd5e661e03?co=us/pdf\n",
      "http://www.indeed.com/r/e3ee03803d383f02?co=us/pdf\n",
      "http://www.indeed.com/r/ebf04cffe8bb76dd?co=us/pdf\n",
      "http://www.indeed.com/r/76ee88dc3c3807c1?co=us/pdf\n",
      "http://www.indeed.com/r/eec1801e65c64d76?co=us/pdf\n",
      "http://www.indeed.com/r/ab5e0fbf3159e7a6?co=us/pdf\n",
      "http://www.indeed.com/r/f44422c9a01a5f05?co=us/pdf\n",
      "http://www.indeed.com/r/b1e9bd17196b9043?co=us/pdf\n",
      "http://www.indeed.com/r/01bd7fb0e548e31a?co=us/pdf\n",
      "http://www.indeed.com/r/40e6271a9a8336da?co=us/pdf\n",
      "http://www.indeed.com/r/2675270172822f22?co=us/pdf\n",
      "http://www.indeed.com/r/45f5972221a85916?co=us/pdf\n",
      "http://www.indeed.com/r/584506fc8811be51?co=us/pdf\n",
      "http://www.indeed.com/r/800d54f9cc883286?co=us/pdf\n",
      "http://www.indeed.com/r/a60735fe1fac65da?co=us/pdf\n",
      "http://www.indeed.com/r/b621d3c7092bde1c?co=us/pdf\n",
      "http://www.indeed.com/r/9220c0ae361e715f?co=us/pdf\n",
      "http://www.indeed.com/r/1b37542fabe40562?co=us/pdf\n",
      "http://www.indeed.com/r/1eb28613a65b82c6?co=us/pdf\n",
      "http://www.indeed.com/r/a89d8a7bcc0127f4?co=us/pdf\n",
      "http://www.indeed.com/r/38fec2824f108a88?co=us/pdf\n",
      "http://www.indeed.com/r/2bafcc5f91854201?co=us/pdf\n",
      "http://www.indeed.com/r/f0a6a7c344f55a05?co=us/pdf\n",
      "http://www.indeed.com/r/767d493482f59379?co=us/pdf\n",
      "http://www.indeed.com/r/8fd05fa6f3853e08?co=us/pdf\n",
      "http://www.indeed.com/r/c2fe84941cf3339a?co=us/pdf\n",
      "http://www.indeed.com/r/6593249ec19a8531?co=us/pdf\n",
      "http://www.indeed.com/r/901b23df51e22ee1?co=us/pdf\n",
      "http://www.indeed.com/r/4e8d09302d452f8f?co=us/pdf\n",
      "http://www.indeed.com/r/f096ccbc9f29c134?co=us/pdf\n",
      "http://www.indeed.com/r/926b8ded96616349?co=us/pdf\n",
      "http://www.indeed.com/r/d4504cb251d2568e?co=us/pdf\n",
      "http://www.indeed.com/r/89db0292ac152fb9?co=us/pdf\n",
      "http://www.indeed.com/r/629addaf23b3f141?co=us/pdf\n",
      "http://www.indeed.com/r/9252d63ed401275f?co=us/pdf\n",
      "http://www.indeed.com/r/d8ef99d8de5badf3?co=us/pdf\n",
      "http://www.indeed.com/r/64c7ca46e2ff192b?co=us/pdf\n",
      "http://www.indeed.com/r/414a70091355ee61?co=us/pdf\n",
      "http://www.indeed.com/r/b1bc139db2ffd292?co=us/pdf\n",
      "http://www.indeed.com/r/374c2ec2cae8f75c?co=us/pdf\n",
      "http://www.indeed.com/r/407759c724f62a95?co=us/pdf\n",
      "http://www.indeed.com/r/b4c01ad4cb56b464?co=us/pdf\n",
      "http://www.indeed.com/r/107c6ff289af826b?co=us/pdf\n",
      "http://www.indeed.com/r/bd53b8c9a54f351f?co=us/pdf\n",
      "http://www.indeed.com/r/e04bc692256f8f9f?co=us/pdf\n",
      "http://www.indeed.com/r/c19ca32a867d726e?co=us/pdf\n",
      "http://www.indeed.com/r/4900020c7c434381?co=us/pdf\n",
      "http://www.indeed.com/r/e72e7952a7b19035?co=us/pdf\n",
      "http://www.indeed.com/r/cea3a3abe6459835?co=us/pdf\n",
      "http://www.indeed.com/r/e0ffb7c8ae2d8b2f?co=us/pdf\n",
      "http://www.indeed.com/r/6ce94d6bda46766a?co=us/pdf\n",
      "http://www.indeed.com/r/1b2f4b40858fe5cb?co=us/pdf\n",
      "http://www.indeed.com/r/c61a75aa1c9259ad?co=us/pdf\n",
      "http://www.indeed.com/r/0c0d88dd91d101ea?co=us/pdf\n",
      "http://www.indeed.com/r/a9a5cc0414681dd6?co=us/pdf\n",
      "http://www.indeed.com/r/166ca59eab292705?co=us/pdf\n",
      "http://www.indeed.com/r/695a25dee254c5a1?co=us/pdf\n",
      "http://www.indeed.com/r/89ffe6d73483a5eb?co=us/pdf\n",
      "http://www.indeed.com/r/756ce9ef370b57bd?co=us/pdf\n",
      "http://www.indeed.com/r/7fe08ee836c68d6b?co=us/pdf\n",
      "http://www.indeed.com/r/c7535414ab810332?co=us/pdf\n",
      "http://www.indeed.com/r/542a87c4ea9d5c54?co=us/pdf\n",
      "http://www.indeed.com/r/9a0129c49719a655?co=us/pdf\n",
      "http://www.indeed.com/r/c4fcf1109717f755?co=us/pdf\n",
      "http://www.indeed.com/r/3132e5bb44ec7b3c?co=us/pdf\n",
      "http://www.indeed.com/r/f18875e484d5b766?co=us/pdf\n",
      "http://www.indeed.com/r/818d4e5de7455e18?co=us/pdf\n",
      "http://www.indeed.com/r/b67eb480285be8a1?co=us/pdf\n",
      "http://www.indeed.com/r/664ed788db1787d5?co=us/pdf\n",
      "http://www.indeed.com/r/78952e8bb3cb99ed?co=us/pdf\n",
      "http://www.indeed.com/r/3db59a5505184d44?co=us/pdf\n",
      "http://www.indeed.com/r/720cc3f1f0e2afce?co=us/pdf\n",
      "http://www.indeed.com/r/2a21e03ca0bc7056?co=us/pdf\n",
      "http://www.indeed.com/r/114e9f48ea7b4e11?co=us/pdf\n",
      "http://www.indeed.com/r/3afa5c48f095fbd8?co=us/pdf\n",
      "http://www.indeed.com/r/7c54846499439f99?co=us/pdf\n",
      "http://www.indeed.com/r/d2676f456743946b?co=us/pdf\n",
      "http://www.indeed.com/r/037db070ab7b0253?co=us/pdf\n",
      "http://www.indeed.com/r/fb8d3a91892e51e6?co=us/pdf\n",
      "http://www.indeed.com/r/db924c6232e9ac8a?co=us/pdf\n",
      "http://www.indeed.com/r/6b061845d57c46e3?co=us/pdf\n",
      "http://www.indeed.com/r/c0b0cfdf3c7ba55d?co=us/pdf\n",
      "http://www.indeed.com/r/282a197a626ae4c4?co=us/pdf\n",
      "http://www.indeed.com/r/d69928237563a39c?co=us/pdf\n",
      "http://www.indeed.com/r/7a4e82579f3fd902?co=us/pdf\n",
      "http://www.indeed.com/r/7156e99108790f78?co=us/pdf\n",
      "http://www.indeed.com/r/64e5d1fe96f6a685?co=us/pdf\n",
      "http://www.indeed.com/r/8930f7d76cce9605?co=us/pdf\n",
      "http://www.indeed.com/r/3313edc9e194a75d?co=us/pdf\n",
      "http://www.indeed.com/r/62ef1303c740a765?co=us/pdf\n",
      "http://www.indeed.com/r/41d0000a57db3075?co=us/pdf\n",
      "http://www.indeed.com/r/d6857b09e3463efc?co=us/pdf\n",
      "http://www.indeed.com/r/5338493fb1d7096c?co=us/pdf\n",
      "http://www.indeed.com/r/dc6d03c66f213589?co=us/pdf\n",
      "http://www.indeed.com/r/4bf82cc45a60bce6?co=us/pdf\n",
      "http://www.indeed.com/r/c236d9eab78b11f6?co=us/pdf\n",
      "http://www.indeed.com/r/9800429d36a383e3?co=us/pdf\n",
      "http://www.indeed.com/r/f2705f2c4fe29033?co=us/pdf\n",
      "http://www.indeed.com/r/c31b6ee4e6445ed9?co=us/pdf\n",
      "http://www.indeed.com/r/a13e3b9b3422e149?co=us/pdf\n",
      "http://www.indeed.com/r/ce59e9985e39541d?co=us/pdf\n",
      "http://www.indeed.com/r/5e121be84a3c127d?co=us/pdf\n",
      "http://www.indeed.com/r/706167bd8564c012?co=us/pdf\n",
      "http://www.indeed.com/r/c5cc674616b7dbaf?co=us/pdf\n",
      "http://www.indeed.com/r/f5233a0ba625fa15?co=us/pdf\n",
      "http://www.indeed.com/r/dd70620c3b34d090?co=us/pdf\n",
      "http://www.indeed.com/r/5d04173664aeefb6?co=us/pdf\n",
      "http://www.indeed.com/me/robert_herman?co=us/pdf\n",
      "http://www.indeed.com/r/56d8cd4d6c41d31b?co=us/pdf\n",
      "http://www.indeed.com/r/d34a2721899a5014?co=us/pdf\n",
      "http://www.indeed.com/r/90a9262a0fcfa812?co=us/pdf\n",
      "http://www.indeed.com/r/15ee8b0e84c11c0f?co=us/pdf\n",
      "http://www.indeed.com/r/d91fcae779b59f2d?co=us/pdf\n",
      "http://www.indeed.com/r/5536c24846d11f58?co=us/pdf\n",
      "http://www.indeed.com/r/eec0990862c5c134?co=us/pdf\n",
      "http://www.indeed.com/r/44ff840ad70ebd51?co=us/pdf\n",
      "http://www.indeed.com/r/f2fec95cf96d6caf?co=us/pdf\n",
      "http://www.indeed.com/r/37a6c0b49f9c68a2?co=us/pdf\n",
      "http://www.indeed.com/r/d5742866afeeed9a?co=us/pdf\n",
      "http://www.indeed.com/r/5e179d2cd2de6049?co=us/pdf\n",
      "http://www.indeed.com/r/b6d905105453ad18?co=us/pdf\n",
      "http://www.indeed.com/r/c46f9a7d8b36f5f7?co=us/pdf\n",
      "http://www.indeed.com/r/6eec1ca9d5f4bde4?co=us/pdf\n",
      "http://www.indeed.com/r/a86a3698232196bf?co=us/pdf\n",
      "http://www.indeed.com/r/86c7c28fd9b29c8e?co=us/pdf\n",
      "http://www.indeed.com/r/edffd8186f6aa9f0?co=us/pdf\n",
      "http://www.indeed.com/r/6e3bfa22bbfcb7b6?co=us/pdf\n",
      "http://www.indeed.com/r/650a7a474e8ef38f?co=us/pdf\n",
      "http://www.indeed.com/r/e2727737c63d6b62?co=us/pdf\n",
      "http://www.indeed.com/r/5a17f86948c5b5ba?co=us/pdf\n",
      "http://www.indeed.com/r/73d20e1df302fad3?co=us/pdf\n",
      "http://www.indeed.com/r/29136838878e030f?co=us/pdf\n",
      "http://www.indeed.com/r/d37c756527d0e795?co=us/pdf\n",
      "http://www.indeed.com/r/24e00aa9973aa67f?co=us/pdf\n",
      "http://www.indeed.com/r/3e497acbd3cd685e?co=us/pdf\n",
      "http://www.indeed.com/r/c362207e775581c1?co=us/pdf\n",
      "http://www.indeed.com/r/994943db69c2bae1?co=us/pdf\n",
      "http://www.indeed.com/r/829fcd7fe4ab9022?co=us/pdf\n",
      "http://www.indeed.com/r/c19fde8d4a9e45b2?co=us/pdf\n",
      "http://www.indeed.com/r/42e3f757e4601405?co=us/pdf\n"
     ]
    }
   ],
   "source": [
    "download_text('engineer')"
   ]
  },
  {
   "cell_type": "markdown",
   "metadata": {},
   "source": [
    "# Log In to Indeed"
   ]
  },
  {
   "cell_type": "raw",
   "metadata": {},
   "source": [
    "driver.get('https://secure.indeed.com/account/login?service=rex&hl=en_US&co=US&cfb=2&continue=http%3A%2F%2Fwww.indeed.com%2Fresumes')"
   ]
  },
  {
   "cell_type": "raw",
   "metadata": {},
   "source": [
    "driver.set_window_size(1080,720)\n",
    "try:\n",
    "    username_form = driver.find_element_by_id('signin_email')\n",
    "    username_form.send_keys(\"bryantbiggs@gmail.com\")\n",
    "    username_form.send_keys(Keys.TAB)\n",
    "except Exception:\n",
    "    driver.save_screenshot('email.png')\n",
    "    driver.close()"
   ]
  },
  {
   "cell_type": "raw",
   "metadata": {},
   "source": [
    "driver.set_window_size(1080,720)\n",
    "try:\n",
    "    password_form = driver.find_element_by_id('signin_password')\n",
    "    password_form.send_keys(\"Yamaharx1!\")\n",
    "    password_form.send_keys(Keys.ENTER)\n",
    "except Exception:\n",
    "    driver.save_screenshot('password.png')\n",
    "    driver.close()"
   ]
  }
 ],
 "metadata": {
  "kernelspec": {
   "display_name": "Python 3",
   "language": "python",
   "name": "python3"
  },
  "language_info": {
   "codemirror_mode": {
    "name": "ipython",
    "version": 3
   },
   "file_extension": ".py",
   "mimetype": "text/x-python",
   "name": "python",
   "nbconvert_exporter": "python",
   "pygments_lexer": "ipython3",
   "version": "3.5.2"
  }
 },
 "nbformat": 4,
 "nbformat_minor": 1
}
