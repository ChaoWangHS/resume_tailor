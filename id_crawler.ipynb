{
 "cells": [
  {
   "cell_type": "code",
   "execution_count": 1,
   "metadata": {
    "collapsed": true
   },
   "outputs": [],
   "source": [
    "from selenium import webdriver\n",
    "from selenium.webdriver.common.keys import Keys\n",
    "\n",
    "import pandas as pd\n",
    "import html5lib\n",
    "from bs4 import BeautifulSoup\n",
    "import re\n",
    "import math\n",
    "from random import randint\n",
    "import os\n",
    "from time import sleep"
   ]
  },
  {
   "cell_type": "markdown",
   "metadata": {},
   "source": [
    "# Run Behind Proxies"
   ]
  },
  {
   "cell_type": "code",
   "execution_count": 5,
   "metadata": {
    "collapsed": false
   },
   "outputs": [
    {
     "data": {
      "text/plain": [
       "<span class=\"ip_address\">109.201.154.230\n",
       "</span>"
      ]
     },
     "execution_count": 5,
     "metadata": {},
     "output_type": "execute_result"
    }
   ],
   "source": [
    "phantom_path = '/usr/local/bin/phantomjs'\n",
    "\n",
    "service_args = ['--proxy=proxy-nl.privateinternetaccess.com:1080', \n",
    "                '--proxy-type=socks5', \n",
    "                '--proxy-auth=x6122622:ZzQCgNVhum',\n",
    "                '--ignore-ssl-errors=true']\n",
    "\n",
    "driver = webdriver.PhantomJS(phantom_path, service_args=service_args)\n",
    "driver.get('http://www.showmyip.gr/')\n",
    "\n",
    "html = driver.page_source\n",
    "soup = BeautifulSoup(html, 'lxml')"
   ]
  },
  {
   "cell_type": "code",
   "execution_count": 6,
   "metadata": {
    "collapsed": false
   },
   "outputs": [
    {
     "data": {
      "text/plain": [
       "'109.201.154.230'"
      ]
     },
     "execution_count": 6,
     "metadata": {},
     "output_type": "execute_result"
    }
   ],
   "source": [
    "# get tag with ip address\n",
    "ip_tag = soup.find(attrs={'class': 'ip_address'})\n",
    "ip = (re.findall(r'''([0-9.]+)''', str(ip_tag)))[0]\n",
    "ip"
   ]
  },
  {
   "cell_type": "markdown",
   "metadata": {
    "collapsed": false
   },
   "source": [
    "import requests\n",
    "import socket\n",
    "import socks\n",
    "\n",
    "PORT = 1080\n",
    "# no authentication\n",
    "# socks.set_default_proxy(socks.SOCKS5, \"localhost\")\n",
    "# with Authentication\n",
    "socks.set_default_proxy(socks.SOCKS5, \"proxy-nl.privateinternetaccess.com\",PORT,True,\"x6122622\",\"ZzQCgNVhum\")\n",
    "socket.socket = socks.socksocket"
   ]
  },
  {
   "cell_type": "markdown",
   "metadata": {},
   "source": [
    "# Show Current IP"
   ]
  },
  {
   "cell_type": "code",
   "execution_count": 7,
   "metadata": {
    "collapsed": true
   },
   "outputs": [],
   "source": [
    "def print_ip():\n",
    "    try:\n",
    "        url = 'http://www.showmyip.gr/'\n",
    "        driver.get(url)\n",
    "\n",
    "        html = driver.page_source\n",
    "        soup = BeautifulSoup(html, 'lxml')\n",
    "\n",
    "        # get tag with ip address\n",
    "        ip_tag = soup.find(attrs={'class': 'ip_address'})\n",
    "        ip = (re.findall(r'''([0-9.]+)''', str(ip_tag)))[0]\n",
    "        return ip\n",
    "    except:\n",
    "        return '#'*30"
   ]
  },
  {
   "cell_type": "code",
   "execution_count": 8,
   "metadata": {
    "collapsed": false
   },
   "outputs": [
    {
     "data": {
      "text/plain": [
       "'46.166.137.214'"
      ]
     },
     "execution_count": 8,
     "metadata": {},
     "output_type": "execute_result"
    }
   ],
   "source": [
    "print_ip()"
   ]
  },
  {
   "cell_type": "markdown",
   "metadata": {},
   "source": [
    "# Get Number of Pages for Title"
   ]
  },
  {
   "cell_type": "code",
   "execution_count": 9,
   "metadata": {
    "collapsed": false
   },
   "outputs": [],
   "source": [
    "def num_results(title):\n",
    "    url = 'http://www.indeed.com/resumes?q={0}&co=US'.format(title)\n",
    "    driver.get(url)\n",
    "    \n",
    "    # get page with selenium and pass to beautiful soup\n",
    "    html = driver.page_source\n",
    "    soup = BeautifulSoup(html, 'lxml')\n",
    "\n",
    "    # get number of results for query\n",
    "    result_count = soup.find(attrs={'id': 'result_count'})\n",
    "\n",
    "    try:\n",
    "        # grab number only\n",
    "        num = (re.findall(r'''([0-9,]+)''', str(result_count)))[0]\n",
    "        num = int(num.replace(',', ''))\n",
    "        return num\n",
    "    except:\n",
    "        return 0"
   ]
  },
  {
   "cell_type": "code",
   "execution_count": 10,
   "metadata": {
    "collapsed": false
   },
   "outputs": [
    {
     "data": {
      "text/plain": [
       "1763752"
      ]
     },
     "execution_count": 10,
     "metadata": {},
     "output_type": "execute_result"
    }
   ],
   "source": [
    "num_results('engineer')"
   ]
  },
  {
   "cell_type": "markdown",
   "metadata": {},
   "source": [
    "# Navigate to Subsequent Pages"
   ]
  },
  {
   "cell_type": "code",
   "execution_count": 11,
   "metadata": {
    "collapsed": false
   },
   "outputs": [],
   "source": [
    "def navigate(start_page):\n",
    "# return web page source for scraping names\n",
    "    try:\n",
    "        next_button = driver.find_element_by_xpath('//a[@href=\"{0}\"]'.format('?q=c&co=US&start={0}'.format(str(start_page))))\n",
    "        next_button.click()\n",
    "    except:\n",
    "        pass\n",
    "    \n",
    "    #sleep(5)\n",
    "    html = driver.page_source\n",
    "    \n",
    "    return BeautifulSoup(html, 'lxml')"
   ]
  },
  {
   "cell_type": "code",
   "execution_count": 16,
   "metadata": {
    "collapsed": false
   },
   "outputs": [],
   "source": [
    "#navigate(100)"
   ]
  },
  {
   "cell_type": "code",
   "execution_count": 13,
   "metadata": {
    "collapsed": true
   },
   "outputs": [],
   "source": [
    "def get_users(start_page):\n",
    "    temp = []\n",
    "    ct = 0\n",
    "    print(len(temp))\n",
    "    while len(temp) == 0:\n",
    "        try:\n",
    "            print('Trying to get users users - start page: {0}'.format(start_page))\n",
    "            # attempt url retrieve\n",
    "            try:\n",
    "                #hf = '?q=c&co=US&start={0}'.format(str(start_page))\n",
    "                #next_button = driver.find_element_by_xpath('//a[@href=\"'+variable+'\"]')\n",
    "                next_button = driver.findElement(By.linkText('2')).click()\n",
    "                next_button.click()\n",
    "                sleep(5)\n",
    "            except:\n",
    "                pass\n",
    "\n",
    "            #sleep(5)\n",
    "            html = driver.page_source\n",
    "            soup = BeautifulSoup(html, 'lxml')\n",
    "            \n",
    "            # find users\n",
    "            list_of_people = soup.find_all(attrs={'class':'clickable_resume_card'})\n",
    "\n",
    "            # make list of users found\n",
    "            temp = [re.search(r'''(\\/.+)\\?''', person.get('onclick')).group() for person in list_of_people]\n",
    "        except:\n",
    "            ct += 1\n",
    "            print('Trying to get users again: {0}'.format(ct))\n",
    "            sleep(15)\n",
    "            temp = []\n",
    "\n",
    "    return temp"
   ]
  },
  {
   "cell_type": "code",
   "execution_count": 14,
   "metadata": {
    "collapsed": false
   },
   "outputs": [
    {
     "ename": "NoSuchElementException",
     "evalue": "Message: {\"request\":{\"headers\":{\"Accept\":\"application/json\",\"Accept-Encoding\":\"identity\",\"Connection\":\"close\",\"Content-Length\":\"96\",\"Content-Type\":\"application/json;charset=UTF-8\",\"Host\":\"127.0.0.1:57486\",\"User-Agent\":\"Python-urllib/3.5\"},\"httpVersion\":\"1.1\",\"method\":\"POST\",\"post\":\"{\\\"using\\\": \\\"partial link text\\\", \\\"sessionId\\\": \\\"f9819500-602e-11e6-8194-0be9d4240766\\\", \\\"value\\\": \\\"\\\"}\",\"url\":\"/elements\",\"urlParsed\":{\"anchor\":\"\",\"query\":\"\",\"file\":\"elements\",\"directory\":\"/\",\"path\":\"/elements\",\"relative\":\"/elements\",\"port\":\"\",\"host\":\"\",\"password\":\"\",\"user\":\"\",\"userInfo\":\"\",\"authority\":\"\",\"protocol\":\"\",\"source\":\"/elements\",\"queryKey\":{},\"chunks\":[\"elements\"]},\"urlOriginal\":\"/session/f9819500-602e-11e6-8194-0be9d4240766/elements\"}}\nScreenshot: available via screen\n",
     "output_type": "error",
     "traceback": [
      "\u001b[0;31m---------------------------------------------------------------------------\u001b[0m",
      "\u001b[0;31mNoSuchElementException\u001b[0m                    Traceback (most recent call last)",
      "\u001b[0;32m<ipython-input-14-4916155d5af9>\u001b[0m in \u001b[0;36m<module>\u001b[0;34m()\u001b[0m\n\u001b[0;32m----> 1\u001b[0;31m \u001b[0mlinks\u001b[0m \u001b[0;34m=\u001b[0m \u001b[0mdriver\u001b[0m\u001b[0;34m.\u001b[0m\u001b[0mfind_elements_by_partial_link_text\u001b[0m\u001b[0;34m(\u001b[0m\u001b[0;34m''\u001b[0m\u001b[0;34m)\u001b[0m\u001b[0;34m\u001b[0m\u001b[0m\n\u001b[0m\u001b[1;32m      2\u001b[0m \u001b[0;32mfor\u001b[0m \u001b[0mlink\u001b[0m \u001b[0;32min\u001b[0m \u001b[0mlinks\u001b[0m\u001b[0;34m:\u001b[0m\u001b[0;34m\u001b[0m\u001b[0m\n\u001b[1;32m      3\u001b[0m     \u001b[0mprint\u001b[0m\u001b[0;34m(\u001b[0m\u001b[0mlink\u001b[0m\u001b[0;34m.\u001b[0m\u001b[0mget_attribute\u001b[0m\u001b[0;34m(\u001b[0m\u001b[0;34m\"href\"\u001b[0m\u001b[0;34m)\u001b[0m\u001b[0;34m)\u001b[0m\u001b[0;34m\u001b[0m\u001b[0m\n",
      "\u001b[0;32m/Library/Frameworks/Python.framework/Versions/3.5/lib/python3.5/site-packages/selenium/webdriver/remote/webdriver.py\u001b[0m in \u001b[0;36mfind_elements_by_partial_link_text\u001b[0;34m(self, link_text)\u001b[0m\n\u001b[1;32m    351\u001b[0m             \u001b[0mdriver\u001b[0m\u001b[0;34m.\u001b[0m\u001b[0mfind_element_by_partial_link_text\u001b[0m\u001b[0;34m(\u001b[0m\u001b[0;34m'Sign'\u001b[0m\u001b[0;34m)\u001b[0m\u001b[0;34m\u001b[0m\u001b[0m\n\u001b[1;32m    352\u001b[0m         \"\"\"\n\u001b[0;32m--> 353\u001b[0;31m         \u001b[0;32mreturn\u001b[0m \u001b[0mself\u001b[0m\u001b[0;34m.\u001b[0m\u001b[0mfind_elements\u001b[0m\u001b[0;34m(\u001b[0m\u001b[0mby\u001b[0m\u001b[0;34m=\u001b[0m\u001b[0mBy\u001b[0m\u001b[0;34m.\u001b[0m\u001b[0mPARTIAL_LINK_TEXT\u001b[0m\u001b[0;34m,\u001b[0m \u001b[0mvalue\u001b[0m\u001b[0;34m=\u001b[0m\u001b[0mlink_text\u001b[0m\u001b[0;34m)\u001b[0m\u001b[0;34m\u001b[0m\u001b[0m\n\u001b[0m\u001b[1;32m    354\u001b[0m \u001b[0;34m\u001b[0m\u001b[0m\n\u001b[1;32m    355\u001b[0m     \u001b[0;32mdef\u001b[0m \u001b[0mfind_element_by_name\u001b[0m\u001b[0;34m(\u001b[0m\u001b[0mself\u001b[0m\u001b[0;34m,\u001b[0m \u001b[0mname\u001b[0m\u001b[0;34m)\u001b[0m\u001b[0;34m:\u001b[0m\u001b[0;34m\u001b[0m\u001b[0m\n",
      "\u001b[0;32m/Library/Frameworks/Python.framework/Versions/3.5/lib/python3.5/site-packages/selenium/webdriver/remote/webdriver.py\u001b[0m in \u001b[0;36mfind_elements\u001b[0;34m(self, by, value)\u001b[0m\n\u001b[1;32m    776\u001b[0m         return self.execute(Command.FIND_ELEMENTS, {\n\u001b[1;32m    777\u001b[0m             \u001b[0;34m'using'\u001b[0m\u001b[0;34m:\u001b[0m \u001b[0mby\u001b[0m\u001b[0;34m,\u001b[0m\u001b[0;34m\u001b[0m\u001b[0m\n\u001b[0;32m--> 778\u001b[0;31m             'value': value})['value']\n\u001b[0m\u001b[1;32m    779\u001b[0m \u001b[0;34m\u001b[0m\u001b[0m\n\u001b[1;32m    780\u001b[0m     \u001b[0;34m@\u001b[0m\u001b[0mproperty\u001b[0m\u001b[0;34m\u001b[0m\u001b[0m\n",
      "\u001b[0;32m/Library/Frameworks/Python.framework/Versions/3.5/lib/python3.5/site-packages/selenium/webdriver/remote/webdriver.py\u001b[0m in \u001b[0;36mexecute\u001b[0;34m(self, driver_command, params)\u001b[0m\n\u001b[1;32m    234\u001b[0m         \u001b[0mresponse\u001b[0m \u001b[0;34m=\u001b[0m \u001b[0mself\u001b[0m\u001b[0;34m.\u001b[0m\u001b[0mcommand_executor\u001b[0m\u001b[0;34m.\u001b[0m\u001b[0mexecute\u001b[0m\u001b[0;34m(\u001b[0m\u001b[0mdriver_command\u001b[0m\u001b[0;34m,\u001b[0m \u001b[0mparams\u001b[0m\u001b[0;34m)\u001b[0m\u001b[0;34m\u001b[0m\u001b[0m\n\u001b[1;32m    235\u001b[0m         \u001b[0;32mif\u001b[0m \u001b[0mresponse\u001b[0m\u001b[0;34m:\u001b[0m\u001b[0;34m\u001b[0m\u001b[0m\n\u001b[0;32m--> 236\u001b[0;31m             \u001b[0mself\u001b[0m\u001b[0;34m.\u001b[0m\u001b[0merror_handler\u001b[0m\u001b[0;34m.\u001b[0m\u001b[0mcheck_response\u001b[0m\u001b[0;34m(\u001b[0m\u001b[0mresponse\u001b[0m\u001b[0;34m)\u001b[0m\u001b[0;34m\u001b[0m\u001b[0m\n\u001b[0m\u001b[1;32m    237\u001b[0m             response['value'] = self._unwrap_value(\n\u001b[1;32m    238\u001b[0m                 response.get('value', None))\n",
      "\u001b[0;32m/Library/Frameworks/Python.framework/Versions/3.5/lib/python3.5/site-packages/selenium/webdriver/remote/errorhandler.py\u001b[0m in \u001b[0;36mcheck_response\u001b[0;34m(self, response)\u001b[0m\n\u001b[1;32m    190\u001b[0m         \u001b[0;32melif\u001b[0m \u001b[0mexception_class\u001b[0m \u001b[0;34m==\u001b[0m \u001b[0mUnexpectedAlertPresentException\u001b[0m \u001b[0;32mand\u001b[0m \u001b[0;34m'alert'\u001b[0m \u001b[0;32min\u001b[0m \u001b[0mvalue\u001b[0m\u001b[0;34m:\u001b[0m\u001b[0;34m\u001b[0m\u001b[0m\n\u001b[1;32m    191\u001b[0m             \u001b[0;32mraise\u001b[0m \u001b[0mexception_class\u001b[0m\u001b[0;34m(\u001b[0m\u001b[0mmessage\u001b[0m\u001b[0;34m,\u001b[0m \u001b[0mscreen\u001b[0m\u001b[0;34m,\u001b[0m \u001b[0mstacktrace\u001b[0m\u001b[0;34m,\u001b[0m \u001b[0mvalue\u001b[0m\u001b[0;34m[\u001b[0m\u001b[0;34m'alert'\u001b[0m\u001b[0;34m]\u001b[0m\u001b[0;34m.\u001b[0m\u001b[0mget\u001b[0m\u001b[0;34m(\u001b[0m\u001b[0;34m'text'\u001b[0m\u001b[0;34m)\u001b[0m\u001b[0;34m)\u001b[0m\u001b[0;34m\u001b[0m\u001b[0m\n\u001b[0;32m--> 192\u001b[0;31m         \u001b[0;32mraise\u001b[0m \u001b[0mexception_class\u001b[0m\u001b[0;34m(\u001b[0m\u001b[0mmessage\u001b[0m\u001b[0;34m,\u001b[0m \u001b[0mscreen\u001b[0m\u001b[0;34m,\u001b[0m \u001b[0mstacktrace\u001b[0m\u001b[0;34m)\u001b[0m\u001b[0;34m\u001b[0m\u001b[0m\n\u001b[0m\u001b[1;32m    193\u001b[0m \u001b[0;34m\u001b[0m\u001b[0m\n\u001b[1;32m    194\u001b[0m     \u001b[0;32mdef\u001b[0m \u001b[0m_value_or_default\u001b[0m\u001b[0;34m(\u001b[0m\u001b[0mself\u001b[0m\u001b[0;34m,\u001b[0m \u001b[0mobj\u001b[0m\u001b[0;34m,\u001b[0m \u001b[0mkey\u001b[0m\u001b[0;34m,\u001b[0m \u001b[0mdefault\u001b[0m\u001b[0;34m)\u001b[0m\u001b[0;34m:\u001b[0m\u001b[0;34m\u001b[0m\u001b[0m\n",
      "\u001b[0;31mNoSuchElementException\u001b[0m: Message: {\"request\":{\"headers\":{\"Accept\":\"application/json\",\"Accept-Encoding\":\"identity\",\"Connection\":\"close\",\"Content-Length\":\"96\",\"Content-Type\":\"application/json;charset=UTF-8\",\"Host\":\"127.0.0.1:57486\",\"User-Agent\":\"Python-urllib/3.5\"},\"httpVersion\":\"1.1\",\"method\":\"POST\",\"post\":\"{\\\"using\\\": \\\"partial link text\\\", \\\"sessionId\\\": \\\"f9819500-602e-11e6-8194-0be9d4240766\\\", \\\"value\\\": \\\"\\\"}\",\"url\":\"/elements\",\"urlParsed\":{\"anchor\":\"\",\"query\":\"\",\"file\":\"elements\",\"directory\":\"/\",\"path\":\"/elements\",\"relative\":\"/elements\",\"port\":\"\",\"host\":\"\",\"password\":\"\",\"user\":\"\",\"userInfo\":\"\",\"authority\":\"\",\"protocol\":\"\",\"source\":\"/elements\",\"queryKey\":{},\"chunks\":[\"elements\"]},\"urlOriginal\":\"/session/f9819500-602e-11e6-8194-0be9d4240766/elements\"}}\nScreenshot: available via screen\n"
     ]
    }
   ],
   "source": [
    "links = driver.find_elements_by_partial_link_text('')\n",
    "for link in links:\n",
    "    print(link.get_attribute(\"href\"))"
   ]
  },
  {
   "cell_type": "code",
   "execution_count": 19,
   "metadata": {
    "collapsed": false
   },
   "outputs": [
    {
     "ename": "InvalidSelectorException",
     "evalue": "Message: {\"errorMessage\":\"Unable to locate an element with the xpath expression //href=\\\"?q=c&co=US&start=100\\\"] because of the following error:\\nError: INVALID_EXPRESSION_ERR: DOM XPath Exception 51\",\"request\":{\"headers\":{\"Accept\":\"application/json\",\"Accept-Encoding\":\"identity\",\"Connection\":\"close\",\"Content-Length\":\"116\",\"Content-Type\":\"application/json;charset=UTF-8\",\"Host\":\"127.0.0.1:57486\",\"User-Agent\":\"Python-urllib/3.5\"},\"httpVersion\":\"1.1\",\"method\":\"POST\",\"post\":\"{\\\"using\\\": \\\"xpath\\\", \\\"sessionId\\\": \\\"f9819500-602e-11e6-8194-0be9d4240766\\\", \\\"value\\\": \\\"//href=\\\\\\\"?q=c&co=US&start=100\\\\\\\"]\\\"}\",\"url\":\"/element\",\"urlParsed\":{\"anchor\":\"\",\"query\":\"\",\"file\":\"element\",\"directory\":\"/\",\"path\":\"/element\",\"relative\":\"/element\",\"port\":\"\",\"host\":\"\",\"password\":\"\",\"user\":\"\",\"userInfo\":\"\",\"authority\":\"\",\"protocol\":\"\",\"source\":\"/element\",\"queryKey\":{},\"chunks\":[\"element\"]},\"urlOriginal\":\"/session/f9819500-602e-11e6-8194-0be9d4240766/element\"}}\nScreenshot: available via screen\n",
     "output_type": "error",
     "traceback": [
      "\u001b[0;31m---------------------------------------------------------------------------\u001b[0m",
      "\u001b[0;31mInvalidSelectorException\u001b[0m                  Traceback (most recent call last)",
      "\u001b[0;32m<ipython-input-19-060c879089ef>\u001b[0m in \u001b[0;36m<module>\u001b[0;34m()\u001b[0m\n\u001b[1;32m      1\u001b[0m \u001b[0mstart_page\u001b[0m \u001b[0;34m=\u001b[0m \u001b[0;36m100\u001b[0m\u001b[0;34m\u001b[0m\u001b[0m\n\u001b[1;32m      2\u001b[0m \u001b[0mhf\u001b[0m \u001b[0;34m=\u001b[0m \u001b[0;34m'?q=c&co=US&start={0}'\u001b[0m\u001b[0;34m.\u001b[0m\u001b[0mformat\u001b[0m\u001b[0;34m(\u001b[0m\u001b[0mstr\u001b[0m\u001b[0;34m(\u001b[0m\u001b[0mstart_page\u001b[0m\u001b[0;34m)\u001b[0m\u001b[0;34m)\u001b[0m\u001b[0;34m\u001b[0m\u001b[0m\n\u001b[0;32m----> 3\u001b[0;31m \u001b[0mnext_button\u001b[0m \u001b[0;34m=\u001b[0m \u001b[0mdriver\u001b[0m\u001b[0;34m.\u001b[0m\u001b[0mfind_element_by_xpath\u001b[0m\u001b[0;34m(\u001b[0m\u001b[0;34m'//href=\"'\u001b[0m\u001b[0;34m+\u001b[0m\u001b[0mhf\u001b[0m\u001b[0;34m+\u001b[0m\u001b[0;34m'\"]'\u001b[0m\u001b[0;34m)\u001b[0m\u001b[0;34m\u001b[0m\u001b[0m\n\u001b[0m\u001b[1;32m      4\u001b[0m \u001b[0;31m#next_button = driver.findElement(By.linkText('2')).click()\u001b[0m\u001b[0;34m\u001b[0m\u001b[0;34m\u001b[0m\u001b[0m\n\u001b[1;32m      5\u001b[0m \u001b[0mnext_button\u001b[0m\u001b[0;34m.\u001b[0m\u001b[0mclick\u001b[0m\u001b[0;34m(\u001b[0m\u001b[0;34m)\u001b[0m\u001b[0;34m\u001b[0m\u001b[0m\n",
      "\u001b[0;32m/Library/Frameworks/Python.framework/Versions/3.5/lib/python3.5/site-packages/selenium/webdriver/remote/webdriver.py\u001b[0m in \u001b[0;36mfind_element_by_xpath\u001b[0;34m(self, xpath)\u001b[0m\n\u001b[1;32m    291\u001b[0m             \u001b[0mdriver\u001b[0m\u001b[0;34m.\u001b[0m\u001b[0mfind_element_by_xpath\u001b[0m\u001b[0;34m(\u001b[0m\u001b[0;34m'//div/td[1]'\u001b[0m\u001b[0;34m)\u001b[0m\u001b[0;34m\u001b[0m\u001b[0m\n\u001b[1;32m    292\u001b[0m         \"\"\"\n\u001b[0;32m--> 293\u001b[0;31m         \u001b[0;32mreturn\u001b[0m \u001b[0mself\u001b[0m\u001b[0;34m.\u001b[0m\u001b[0mfind_element\u001b[0m\u001b[0;34m(\u001b[0m\u001b[0mby\u001b[0m\u001b[0;34m=\u001b[0m\u001b[0mBy\u001b[0m\u001b[0;34m.\u001b[0m\u001b[0mXPATH\u001b[0m\u001b[0;34m,\u001b[0m \u001b[0mvalue\u001b[0m\u001b[0;34m=\u001b[0m\u001b[0mxpath\u001b[0m\u001b[0;34m)\u001b[0m\u001b[0;34m\u001b[0m\u001b[0m\n\u001b[0m\u001b[1;32m    294\u001b[0m \u001b[0;34m\u001b[0m\u001b[0m\n\u001b[1;32m    295\u001b[0m     \u001b[0;32mdef\u001b[0m \u001b[0mfind_elements_by_xpath\u001b[0m\u001b[0;34m(\u001b[0m\u001b[0mself\u001b[0m\u001b[0;34m,\u001b[0m \u001b[0mxpath\u001b[0m\u001b[0;34m)\u001b[0m\u001b[0;34m:\u001b[0m\u001b[0;34m\u001b[0m\u001b[0m\n",
      "\u001b[0;32m/Library/Frameworks/Python.framework/Versions/3.5/lib/python3.5/site-packages/selenium/webdriver/remote/webdriver.py\u001b[0m in \u001b[0;36mfind_element\u001b[0;34m(self, by, value)\u001b[0m\n\u001b[1;32m    750\u001b[0m         return self.execute(Command.FIND_ELEMENT, {\n\u001b[1;32m    751\u001b[0m             \u001b[0;34m'using'\u001b[0m\u001b[0;34m:\u001b[0m \u001b[0mby\u001b[0m\u001b[0;34m,\u001b[0m\u001b[0;34m\u001b[0m\u001b[0m\n\u001b[0;32m--> 752\u001b[0;31m             'value': value})['value']\n\u001b[0m\u001b[1;32m    753\u001b[0m \u001b[0;34m\u001b[0m\u001b[0m\n\u001b[1;32m    754\u001b[0m     \u001b[0;32mdef\u001b[0m \u001b[0mfind_elements\u001b[0m\u001b[0;34m(\u001b[0m\u001b[0mself\u001b[0m\u001b[0;34m,\u001b[0m \u001b[0mby\u001b[0m\u001b[0;34m=\u001b[0m\u001b[0mBy\u001b[0m\u001b[0;34m.\u001b[0m\u001b[0mID\u001b[0m\u001b[0;34m,\u001b[0m \u001b[0mvalue\u001b[0m\u001b[0;34m=\u001b[0m\u001b[0;32mNone\u001b[0m\u001b[0;34m)\u001b[0m\u001b[0;34m:\u001b[0m\u001b[0;34m\u001b[0m\u001b[0m\n",
      "\u001b[0;32m/Library/Frameworks/Python.framework/Versions/3.5/lib/python3.5/site-packages/selenium/webdriver/remote/webdriver.py\u001b[0m in \u001b[0;36mexecute\u001b[0;34m(self, driver_command, params)\u001b[0m\n\u001b[1;32m    234\u001b[0m         \u001b[0mresponse\u001b[0m \u001b[0;34m=\u001b[0m \u001b[0mself\u001b[0m\u001b[0;34m.\u001b[0m\u001b[0mcommand_executor\u001b[0m\u001b[0;34m.\u001b[0m\u001b[0mexecute\u001b[0m\u001b[0;34m(\u001b[0m\u001b[0mdriver_command\u001b[0m\u001b[0;34m,\u001b[0m \u001b[0mparams\u001b[0m\u001b[0;34m)\u001b[0m\u001b[0;34m\u001b[0m\u001b[0m\n\u001b[1;32m    235\u001b[0m         \u001b[0;32mif\u001b[0m \u001b[0mresponse\u001b[0m\u001b[0;34m:\u001b[0m\u001b[0;34m\u001b[0m\u001b[0m\n\u001b[0;32m--> 236\u001b[0;31m             \u001b[0mself\u001b[0m\u001b[0;34m.\u001b[0m\u001b[0merror_handler\u001b[0m\u001b[0;34m.\u001b[0m\u001b[0mcheck_response\u001b[0m\u001b[0;34m(\u001b[0m\u001b[0mresponse\u001b[0m\u001b[0;34m)\u001b[0m\u001b[0;34m\u001b[0m\u001b[0m\n\u001b[0m\u001b[1;32m    237\u001b[0m             response['value'] = self._unwrap_value(\n\u001b[1;32m    238\u001b[0m                 response.get('value', None))\n",
      "\u001b[0;32m/Library/Frameworks/Python.framework/Versions/3.5/lib/python3.5/site-packages/selenium/webdriver/remote/errorhandler.py\u001b[0m in \u001b[0;36mcheck_response\u001b[0;34m(self, response)\u001b[0m\n\u001b[1;32m    190\u001b[0m         \u001b[0;32melif\u001b[0m \u001b[0mexception_class\u001b[0m \u001b[0;34m==\u001b[0m \u001b[0mUnexpectedAlertPresentException\u001b[0m \u001b[0;32mand\u001b[0m \u001b[0;34m'alert'\u001b[0m \u001b[0;32min\u001b[0m \u001b[0mvalue\u001b[0m\u001b[0;34m:\u001b[0m\u001b[0;34m\u001b[0m\u001b[0m\n\u001b[1;32m    191\u001b[0m             \u001b[0;32mraise\u001b[0m \u001b[0mexception_class\u001b[0m\u001b[0;34m(\u001b[0m\u001b[0mmessage\u001b[0m\u001b[0;34m,\u001b[0m \u001b[0mscreen\u001b[0m\u001b[0;34m,\u001b[0m \u001b[0mstacktrace\u001b[0m\u001b[0;34m,\u001b[0m \u001b[0mvalue\u001b[0m\u001b[0;34m[\u001b[0m\u001b[0;34m'alert'\u001b[0m\u001b[0;34m]\u001b[0m\u001b[0;34m.\u001b[0m\u001b[0mget\u001b[0m\u001b[0;34m(\u001b[0m\u001b[0;34m'text'\u001b[0m\u001b[0;34m)\u001b[0m\u001b[0;34m)\u001b[0m\u001b[0;34m\u001b[0m\u001b[0m\n\u001b[0;32m--> 192\u001b[0;31m         \u001b[0;32mraise\u001b[0m \u001b[0mexception_class\u001b[0m\u001b[0;34m(\u001b[0m\u001b[0mmessage\u001b[0m\u001b[0;34m,\u001b[0m \u001b[0mscreen\u001b[0m\u001b[0;34m,\u001b[0m \u001b[0mstacktrace\u001b[0m\u001b[0;34m)\u001b[0m\u001b[0;34m\u001b[0m\u001b[0m\n\u001b[0m\u001b[1;32m    193\u001b[0m \u001b[0;34m\u001b[0m\u001b[0m\n\u001b[1;32m    194\u001b[0m     \u001b[0;32mdef\u001b[0m \u001b[0m_value_or_default\u001b[0m\u001b[0;34m(\u001b[0m\u001b[0mself\u001b[0m\u001b[0;34m,\u001b[0m \u001b[0mobj\u001b[0m\u001b[0;34m,\u001b[0m \u001b[0mkey\u001b[0m\u001b[0;34m,\u001b[0m \u001b[0mdefault\u001b[0m\u001b[0;34m)\u001b[0m\u001b[0;34m:\u001b[0m\u001b[0;34m\u001b[0m\u001b[0m\n",
      "\u001b[0;31mInvalidSelectorException\u001b[0m: Message: {\"errorMessage\":\"Unable to locate an element with the xpath expression //href=\\\"?q=c&co=US&start=100\\\"] because of the following error:\\nError: INVALID_EXPRESSION_ERR: DOM XPath Exception 51\",\"request\":{\"headers\":{\"Accept\":\"application/json\",\"Accept-Encoding\":\"identity\",\"Connection\":\"close\",\"Content-Length\":\"116\",\"Content-Type\":\"application/json;charset=UTF-8\",\"Host\":\"127.0.0.1:57486\",\"User-Agent\":\"Python-urllib/3.5\"},\"httpVersion\":\"1.1\",\"method\":\"POST\",\"post\":\"{\\\"using\\\": \\\"xpath\\\", \\\"sessionId\\\": \\\"f9819500-602e-11e6-8194-0be9d4240766\\\", \\\"value\\\": \\\"//href=\\\\\\\"?q=c&co=US&start=100\\\\\\\"]\\\"}\",\"url\":\"/element\",\"urlParsed\":{\"anchor\":\"\",\"query\":\"\",\"file\":\"element\",\"directory\":\"/\",\"path\":\"/element\",\"relative\":\"/element\",\"port\":\"\",\"host\":\"\",\"password\":\"\",\"user\":\"\",\"userInfo\":\"\",\"authority\":\"\",\"protocol\":\"\",\"source\":\"/element\",\"queryKey\":{},\"chunks\":[\"element\"]},\"urlOriginal\":\"/session/f9819500-602e-11e6-8194-0be9d4240766/element\"}}\nScreenshot: available via screen\n"
     ]
    }
   ],
   "source": [
    "start_page = 100\n",
    "hf = '?q=c&co=US&start={0}'.format(str(start_page))\n",
    "next_button = driver.find_element_by_xpath('//href=\"'+hf+'\"]')\n",
    "#next_button = driver.findElement(By.linkText('2')).click()\n",
    "next_button.click()"
   ]
  },
  {
   "cell_type": "code",
   "execution_count": 18,
   "metadata": {
    "collapsed": false
   },
   "outputs": [
    {
     "name": "stdout",
     "output_type": "stream",
     "text": [
      "0\n",
      "Trying to get users users - start page: 150\n"
     ]
    },
    {
     "data": {
      "text/plain": [
       "['/r/Petros-Gazazyan/2b5b06cff39ce808?',\n",
       " '/r/Travis-London/8fe4de80947b60f2?',\n",
       " '/r/Robert-Luenebrink/9c6eeb04e6963d6b?',\n",
       " '/r/Joel-Darr/acbcc02f2044b655?',\n",
       " '/r/Melvin-Williams/6d757143003b8a7b?',\n",
       " '/r/Robert-Musso/2cb4acba17794174?',\n",
       " '/r/Kentraye-Williams/f03c234aaff38997?',\n",
       " '/r/Omjee-Sharma/ddb616c36d532de3?',\n",
       " '/r/Saiquone-Selby/fcd4b21a0ad8e28c?',\n",
       " '/r/Stephen-A-Kraft---Mechanical-Engineer/1c009e8f7e2f5309?',\n",
       " '/r/Sunna-Kristinsdottir/b2dd44fb646b3c2c?',\n",
       " '/r/Peter-Link/beb0af9ae3c5a4ce?',\n",
       " '/r/Shade-Fulton/4feea7a69ab74b9e?',\n",
       " '/r/Christopher-Hudson/312348c3980a57af?',\n",
       " '/r/5b165ca433e5dffc?',\n",
       " '/r/Joshi-Sr-Devops-Engineer/0fcd150d56bf8f54?',\n",
       " '/r/Gary-Williams/b02082ffe8681726?',\n",
       " '/r/Kevin-Rogers/9741f95fbcd9fab7?',\n",
       " '/r/Julian-Ramirez-De-Arellano/952287aef14626c8?',\n",
       " '/me/stevesigg?',\n",
       " '/r/Service-Engineer-Karumuri-Anusha/70b98792c31a9b25?',\n",
       " '/r/Robert-Walker/53a9d581661d4560?',\n",
       " '/r/Sales-Engineer-Khan/d343fda31431adc9?',\n",
       " '/r/Josh-Sloan/43b8ce3756ee1533?',\n",
       " '/r/Michael-Szymczak/3d505b007fc7db71?',\n",
       " '/r/Jon-Christopher-Felzien/a6034288d3df0531?',\n",
       " '/r/Ankita-Jain/c4921a946b7dbe96?',\n",
       " '/r/Silvija-Bosnic/f65dc16a7544b5d1?',\n",
       " '/r/Ritika-Varshney/c2b99355fe81ca48?',\n",
       " '/r/Toby-Menard/ed250d3db3cf3201?',\n",
       " '/r/Michael-Spear/41fd4171b7a630e7?',\n",
       " '/r/Seth-Fritch/602867215dcdc6b3?',\n",
       " '/r/Geological-Engineer-Naz/eabec5f052af793d?',\n",
       " '/r/Jim-Richards/cc3be0dfedf740a7?',\n",
       " '/r/Nithin-Gaddam/4675268e3fbba0ed?',\n",
       " '/r/Matthew-Curtis/cb3a57bd5e661e03?',\n",
       " '/r/TIM-TYPINSKI/e3ee03803d383f02?',\n",
       " '/r/G-H-B-OPP--Patelwadi/ebf04cffe8bb76dd?',\n",
       " '/r/David-Bernal/eec1801e65c64d76?',\n",
       " '/r/Andrea-Miller/f44422c9a01a5f05?',\n",
       " '/r/Joseph-Barrett/76ee88dc3c3807c1?',\n",
       " '/r/Jose-Tejera/01bd7fb0e548e31a?',\n",
       " '/r/David-Williams/2675270172822f22?',\n",
       " '/r/Jason-Heater/ab5e0fbf3159e7a6?',\n",
       " '/r/Godfrey-Fraser/584506fc8811be51?',\n",
       " '/r/Aarya-Engineer/800d54f9cc883286?',\n",
       " '/r/Waqas-Khattak/b1e9bd17196b9043?',\n",
       " '/r/Vinay-Singh/b621d3c7092bde1c?',\n",
       " '/r/Peter-Marsh/9220c0ae361e715f?',\n",
       " '/r/Jesse-Gunderson/40e6271a9a8336da?']"
      ]
     },
     "execution_count": 18,
     "metadata": {},
     "output_type": "execute_result"
    }
   ],
   "source": [
    "get_users(150)"
   ]
  },
  {
   "cell_type": "code",
   "execution_count": null,
   "metadata": {
    "collapsed": false
   },
   "outputs": [],
   "source": [
    "def scrape_users(title, country):\n",
    "    # get starting page\n",
    "    #driver.get('http://www.indeed.com/resumes?q=engineer&co=US')\n",
    "\n",
    "    # cleanup previous file versions before starting due to append\n",
    "    f = '{0}.csv'.format(title)\n",
    "    if os.path.exists(f):\n",
    "        os.remove(f)\n",
    "    \n",
    "    f = 'failed.csv'\n",
    "    if os.path.exists(f):\n",
    "        os.remove(f)\n",
    "    \n",
    "    # loop through pages\n",
    "    for start_page in range(50, num_results(title), 50):\n",
    "            # play nice\n",
    "            sleep(randint(1,10))\n",
    "            print('Done sleeping - start page: {0}'.format(start_page))\n",
    "\n",
    "            # make list of users found\n",
    "            temp = navigate(start_page)\n",
    "            \n",
    "            # show what ip is being used\n",
    "            print('List: {0} --- Start page: {1} --- IP: {2}'.format(len(temp), start_page, print_ip()))\n",
    "            \n",
    "            # write list of names found to file\n",
    "            title = title.replace(' ', '_')\n",
    "            with open('{0}.csv'.format(title), 'a') as outfile:\n",
    "                for name in temp:\n",
    "                    outfile.write('{0}, \\n'.format(name))"
   ]
  },
  {
   "cell_type": "code",
   "execution_count": null,
   "metadata": {
    "collapsed": true
   },
   "outputs": [],
   "source": [
    "def failed_page(title, start_page):\n",
    "    with open('failed.csv', 'a') as outfile:\n",
    "        outfile.write(('title:{0}, page_start:{1}, \\n').format(title, start_page))"
   ]
  },
  {
   "cell_type": "code",
   "execution_count": null,
   "metadata": {
    "collapsed": false
   },
   "outputs": [],
   "source": [
    "scrape_users('engineer', 'US')"
   ]
  },
  {
   "cell_type": "code",
   "execution_count": null,
   "metadata": {
    "collapsed": true
   },
   "outputs": [],
   "source": [
    "\n",
    "# Start socks5 proxies with these commands run in \n",
    "# separate tmux tabs. Do not quit the proxies while\n",
    "# scraping. I've only used the server shortcut\n",
    "# because I have them setup in my ssh config.\n",
    "# However, you can use username@server instead.\n",
    "\n",
    "# ssh -ND 8081 nestanmr\n",
    "# ssh -ND 8082 backupsy\n",
    "# ssh -ND 8083 aws\n",
    "# ssh -ND 8084 vultr\n",
    "\n",
    "\n",
    "# Install phantomjs 2 on ubuntu with these commands:\n",
    "# sudo add-apt-repository ppa:tanguy-patte/phantomjs\n",
    "# sudo apt-get update\n",
    "# sudo apt-get install phatomjs\n",
    "\n",
    "phantom_path = '/usr/bin/phantomjs'\n",
    "\n",
    "# Start the browser instances\n",
    "service_args1 = ['--proxy=127.0.0.1:8081', '--proxy-type=socks5']\n",
    "service_args2 = ['--proxy=127.0.0.1:8082', '--proxy-type=socks5']\n",
    "service_args3 = ['--proxy=127.0.0.1:8083', '--proxy-type=socks5']\n",
    "service_args4 = ['--proxy=127.0.0.1:8084', '--proxy-type=socks5']\n",
    "\n",
    "driver1 = webdriver.PhantomJS(phantom_path, service_args=service_args1)\n",
    "driver2 = webdriver.PhantomJS(phantom_path, service_args=service_args2)\n",
    "driver3 = webdriver.PhantomJS(phantom_path, service_args=service_args3)\n",
    "driver4 = webdriver.PhantomJS(phantom_path, service_args=service_args4)\n",
    "\n",
    "driver_list = [driver1, driver2, driver3, driver4]\n",
    "\n",
    "# Open each instance and login (you may not have to do this)\n",
    "\n",
    "for driver in driver_list:\n",
    "\n",
    "    driver.get('https://www.winespectator.com/auth/login')\n",
    "\n",
    "    userid = driver.find_element_by_name('userid')\n",
    "    userid.send_keys(winespectator_login_name)\n",
    "\n",
    "    passwd = driver.find_element_by_name('passwd')\n",
    "    passwd.send_keys(winespectator_password)\n",
    "\n",
    "    login = driver.find_element_by_id('target')\n",
    "    login.click()\n",
    "\n",
    "    time.sleep(1.5)\n",
    "\n",
    "\n",
    "# Here is the function that operates on each URL I want to scrape\n",
    "\n",
    "for url in enumerate(url_list):\n",
    "    if (url[0] % 100) == 0:\n",
    "        print url[0]\n",
    "        \n",
    "    # Randomly pick the driver\n",
    "    driver = np.random.choice(driver_list)\n",
    "    \n",
    "    # Load the URL \n",
    "    full_url = 'http://www.winespectator.com/' + url[1]\n",
    "    driver.get(full_url)\n",
    "    time.sleep(1.5)\n",
    "    \n",
    "    # Get the HTML\n",
    "    html = driver.page_source\n",
    "\n",
    "    # .... scrape the wine info\n",
    "\n"
   ]
  }
 ],
 "metadata": {
  "kernelspec": {
   "display_name": "Python 3",
   "language": "python",
   "name": "python3"
  },
  "language_info": {
   "codemirror_mode": {
    "name": "ipython",
    "version": 3
   },
   "file_extension": ".py",
   "mimetype": "text/x-python",
   "name": "python",
   "nbconvert_exporter": "python",
   "pygments_lexer": "ipython3",
   "version": "3.5.2"
  }
 },
 "nbformat": 4,
 "nbformat_minor": 1
}
