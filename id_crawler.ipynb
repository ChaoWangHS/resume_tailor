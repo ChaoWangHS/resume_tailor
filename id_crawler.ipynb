{
 "cells": [
  {
   "cell_type": "code",
   "execution_count": 1,
   "metadata": {
    "collapsed": true
   },
   "outputs": [],
   "source": [
    "from selenium import webdriver\n",
    "from selenium.webdriver.common.keys import Keys\n",
    "from fake_useragent import UserAgent\n",
    "\n",
    "import pandas as pd\n",
    "import html5lib\n",
    "from bs4 import BeautifulSoup\n",
    "import re\n",
    "import math\n",
    "from random import randint\n",
    "import os\n",
    "from time import sleep, localtime, strftime\n",
    "from glob import glob"
   ]
  },
  {
   "cell_type": "code",
   "execution_count": 2,
   "metadata": {
    "collapsed": true
   },
   "outputs": [],
   "source": [
    "# Fake user agents for browsing\n",
    "ua = UserAgent()"
   ]
  },
  {
   "cell_type": "code",
   "execution_count": 3,
   "metadata": {
    "collapsed": true
   },
   "outputs": [],
   "source": [
    "DIR_STATIC = './static'\n",
    "DIR_DATA = './data'\n",
    "\n",
    "PIA_SOCKS_USER = os.environ['PIA_SOCKS_USER']\n",
    "PIA_SOCKS_PASSWORD = os.environ['PIA_SOCKS_PASSWORD']\n",
    "INDEED_LOGIN = os.environ['INDEED_LOGIN']\n",
    "INDEED_PASSWORD = os.environ['INDEED_PASSWORD']"
   ]
  },
  {
   "cell_type": "markdown",
   "metadata": {},
   "source": [
    "# Run Behind Proxies"
   ]
  },
  {
   "cell_type": "code",
   "execution_count": 4,
   "metadata": {
    "collapsed": true
   },
   "outputs": [],
   "source": [
    "def get_driver():\n",
    "    headers = {'User-Agent': ua.random}\n",
    "\n",
    "    for key, value in enumerate(headers):\n",
    "        capability_key = 'phantomjs.page.customHeaders.{}'.format(key)\n",
    "        webdriver.DesiredCapabilities.PHANTOMJS[capability_key] = value\n",
    "\n",
    "    service_args = ['--proxy=proxy-nl.privateinternetaccess.com:1080', \n",
    "                    '--proxy-type=socks5', \n",
    "                    '--proxy-auth={0}:{1}'.format(PIA_SOCKS_USER, PIA_SOCKS_PASSWORD),\n",
    "                    '--web-security=false',\n",
    "                    '--ignore-ssl-errors=true']\n",
    "\n",
    "    driver = webdriver.PhantomJS('phantomjs', service_args=service_args)\n",
    "    return driver"
   ]
  },
  {
   "cell_type": "code",
   "execution_count": 5,
   "metadata": {
    "collapsed": true
   },
   "outputs": [],
   "source": [
    "driver = get_driver()"
   ]
  },
  {
   "cell_type": "code",
   "execution_count": 6,
   "metadata": {
    "collapsed": true
   },
   "outputs": [],
   "source": [
    "def enter_field_text(field_id, field_input, key_press, save_pic=False):\n",
    "    field = driver.find_element_by_id(field_id)\n",
    "    field.send_keys(field_input)\n",
    "    field.send_keys(key_press)\n",
    "    \n",
    "    if save_pic:\n",
    "        driver.set_window_size(1080,720)\n",
    "        driver.save_screenshot('{0}/{1}.png'.format(DIR_DATA, field_id))\n",
    "        \n",
    "def login_indeed():\n",
    "    # go to login page\n",
    "    driver.get('https://secure.indeed.com/account/login?service=rex&hl=en_US&co=US&cfb=2&continue=http%3A%2F%2Fwww.indeed.com%2Fresumes')\n",
    "    \n",
    "    enter_field_text('signin_email', INDEED_LOGIN, Keys.TAB, True)\n",
    "    enter_field_text('signin_password', INDEED_PASSWORD, Keys.ENTER, True)"
   ]
  },
  {
   "cell_type": "code",
   "execution_count": 7,
   "metadata": {},
   "outputs": [],
   "source": [
    "login_indeed()"
   ]
  },
  {
   "cell_type": "markdown",
   "metadata": {},
   "source": [
    "# Get Number of Pages for Title"
   ]
  },
  {
   "cell_type": "code",
   "execution_count": 8,
   "metadata": {
    "collapsed": true
   },
   "outputs": [],
   "source": [
    "def get_number_results(title):\n",
    "    url = 'http://www.indeed.com/resumes?q={0}&co=US'.format(title)\n",
    "    driver.get(url)\n",
    "    html = driver.page_source\n",
    "    soup = BeautifulSoup(html, 'lxml')\n",
    "\n",
    "    # get number of results for query\n",
    "    result_count = soup.find(attrs={'id': 'result_count'})\n",
    "\n",
    "    try:\n",
    "        # grab number only\n",
    "        num = (re.findall(r'''([0-9,]+)''', str(result_count)))[0]\n",
    "        num = int(num.replace(',', ''))\n",
    "        return num\n",
    "    except:\n",
    "        return 0"
   ]
  },
  {
   "cell_type": "code",
   "execution_count": 9,
   "metadata": {},
   "outputs": [
    {
     "data": {
      "text/plain": [
       "6082011"
      ]
     },
     "execution_count": 9,
     "metadata": {},
     "output_type": "execute_result"
    }
   ],
   "source": [
    "title = 'software'\n",
    "get_number_results(title)"
   ]
  },
  {
   "cell_type": "markdown",
   "metadata": {},
   "source": [
    "# Make List of Links"
   ]
  },
  {
   "cell_type": "code",
   "execution_count": 10,
   "metadata": {
    "collapsed": true
   },
   "outputs": [],
   "source": [
    "def get_links(title):\n",
    "    list_links = []\n",
    "    list_links.append('http://www.indeed.com/resumes?q={0}&co=US'.format(title))\n",
    "\n",
    "    for start_page in range(50, get_number_results(title), 50):\n",
    "        list_links.append('http://www.indeed.com/resumes?q={0}&co=US&start={1}'.format(title, str(start_page)))\n",
    "\n",
    "    return list_links"
   ]
  },
  {
   "cell_type": "code",
   "execution_count": null,
   "metadata": {
    "collapsed": true
   },
   "outputs": [],
   "source": [
    "def get_users(url):\n",
    "    print(\"Entered 'get_users with {0}\".format(url))\n",
    "    temp = []\n",
    "    ct = 0\n",
    "    while len(temp) == 0:\n",
    "        if ct >= 5: break\n",
    "#         try:\n",
    "        driver.get(url)\n",
    "        ct += 1\n",
    "        ### SLEEP\n",
    "#             sleep(randint(2,8))\n",
    "        ### SLEEP\n",
    "        html = driver.page_source\n",
    "        soup = BeautifulSoup(html, 'lxml')\n",
    "\n",
    "        # find users\n",
    "        list_of_people = soup.find_all(attrs={'class':'clickable_resume_card'})\n",
    "\n",
    "        print(list_of_people)\n",
    "        # make list of users found\n",
    "        temp = [re.search(r'''(\\/.+)\\?''', person.get('onclick')).group() for person in list_of_people]\n",
    "        \n",
    "#         except:\n",
    "#             continue\n",
    "\n",
    "    return temp"
   ]
  },
  {
   "cell_type": "code",
   "execution_count": null,
   "metadata": {},
   "outputs": [
    {
     "name": "stdout",
     "output_type": "stream",
     "text": [
      "Entered 'get_users with https://www.indeed.com/resumes?q=software&co=US\n",
      "[]\n",
      "[]\n"
     ]
    }
   ],
   "source": [
    "get_users('https://www.indeed.com/resumes?q=software&co=US')"
   ]
  },
  {
   "cell_type": "code",
   "execution_count": 12,
   "metadata": {
    "collapsed": true
   },
   "outputs": [],
   "source": [
    "def scrape_users(title):\n",
    "    # cleanup previous file versions before starting due to append\n",
    "    f = '{0}.csv'.format(title)\n",
    "    if os.path.exists(f): os.remove(f)\n",
    "    if os.path.exists(f): os.remove('failed.csv')\n",
    "    \n",
    "    ttl = 0 # count\n",
    "    ct = 0\n",
    "    # loop through pages\n",
    "    for name in get_links(title):\n",
    "            # make list of users found\n",
    "            temp = get_users(name)\n",
    "            print(\"Returned from 'get_users' with {0} results\".format(len(temp)))\n",
    "\n",
    "            # show what ip is being used\n",
    "            before = ttl\n",
    "            ttl += len(temp)\n",
    "            print('List: {0}'.format(ttl))\n",
    "            \n",
    "            if before != ttl:\n",
    "                # write list of names found to file\n",
    "                title = title.replace(' ', '_')\n",
    "                with open('data/{0}.csv'.format(title), 'a') as outfile:\n",
    "                    for name in temp:\n",
    "                        outfile.write('{0}, \\n'.format(name))\n",
    "                ct += 1\n",
    "                if ct % 3 == 0:\n",
    "                    driver.delete_all_cookies()\n",
    "            else:\n",
    "                print('#'*80)\n",
    "                print('No new results')\n",
    "                print('#'*80)\n",
    "                failed_page(title, ttl)\n",
    "                driver.dispose()\n",
    "                break"
   ]
  },
  {
   "cell_type": "code",
   "execution_count": 13,
   "metadata": {
    "collapsed": true
   },
   "outputs": [],
   "source": [
    "def failed_page(title, start_page):\n",
    "    # if scrape failes, output point where it failed\n",
    "    with open('failed.csv', 'a') as outfile:\n",
    "        outfile.write(('title:{0}, page_start:{1}, \\n').format(title, start_page))"
   ]
  },
  {
   "cell_type": "markdown",
   "metadata": {},
   "source": [
    "# Start the Scraper"
   ]
  },
  {
   "cell_type": "code",
   "execution_count": 14,
   "metadata": {},
   "outputs": [
    {
     "name": "stdout",
     "output_type": "stream",
     "text": [
      "Entered 'get_users with http://www.indeed.com/resumes?q=software&co=US\n",
      "Returned from 'get_users' with 0 results\n",
      "List: 0\n",
      "################################################################################\n",
      "No new results\n",
      "################################################################################\n"
     ]
    },
    {
     "ename": "AttributeError",
     "evalue": "'WebDriver' object has no attribute 'dispose'",
     "output_type": "error",
     "traceback": [
      "\u001b[0;31m---------------------------------------------------------------------------\u001b[0m",
      "\u001b[0;31mAttributeError\u001b[0m                            Traceback (most recent call last)",
      "\u001b[0;32m<ipython-input-14-73e4d8388905>\u001b[0m in \u001b[0;36m<module>\u001b[0;34m()\u001b[0m\n\u001b[0;32m----> 1\u001b[0;31m \u001b[0mscrape_users\u001b[0m\u001b[0;34m(\u001b[0m\u001b[0mtitle\u001b[0m\u001b[0;34m)\u001b[0m\u001b[0;34m\u001b[0m\u001b[0m\n\u001b[0m",
      "\u001b[0;32m<ipython-input-12-e35d364e6c96>\u001b[0m in \u001b[0;36mscrape_users\u001b[0;34m(title)\u001b[0m\n\u001b[1;32m     32\u001b[0m                 \u001b[0mprint\u001b[0m\u001b[0;34m(\u001b[0m\u001b[0;34m'#'\u001b[0m\u001b[0;34m*\u001b[0m\u001b[0;36m80\u001b[0m\u001b[0;34m)\u001b[0m\u001b[0;34m\u001b[0m\u001b[0m\n\u001b[1;32m     33\u001b[0m                 \u001b[0mfailed_page\u001b[0m\u001b[0;34m(\u001b[0m\u001b[0mtitle\u001b[0m\u001b[0;34m,\u001b[0m \u001b[0mttl\u001b[0m\u001b[0;34m)\u001b[0m\u001b[0;34m\u001b[0m\u001b[0m\n\u001b[0;32m---> 34\u001b[0;31m                 \u001b[0mdriver\u001b[0m\u001b[0;34m.\u001b[0m\u001b[0mdispose\u001b[0m\u001b[0;34m(\u001b[0m\u001b[0;34m)\u001b[0m\u001b[0;34m\u001b[0m\u001b[0m\n\u001b[0m\u001b[1;32m     35\u001b[0m                 \u001b[0;32mbreak\u001b[0m\u001b[0;34m\u001b[0m\u001b[0m\n",
      "\u001b[0;31mAttributeError\u001b[0m: 'WebDriver' object has no attribute 'dispose'"
     ]
    }
   ],
   "source": [
    "scrape_users(title)"
   ]
  },
  {
   "cell_type": "code",
   "execution_count": null,
   "metadata": {
    "collapsed": true
   },
   "outputs": [],
   "source": []
  }
 ],
 "metadata": {
  "kernelspec": {
   "display_name": "Python [default]",
   "language": "python",
   "name": "python3"
  },
  "language_info": {
   "codemirror_mode": {
    "name": "ipython",
    "version": 3
   },
   "file_extension": ".py",
   "mimetype": "text/x-python",
   "name": "python",
   "nbconvert_exporter": "python",
   "pygments_lexer": "ipython3",
   "version": "3.6.2"
  }
 },
 "nbformat": 4,
 "nbformat_minor": 1
}
