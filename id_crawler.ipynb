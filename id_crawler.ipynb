{
 "cells": [
  {
   "cell_type": "code",
   "execution_count": 1,
   "metadata": {
    "collapsed": true
   },
   "outputs": [],
   "source": [
    "from selenium import webdriver\n",
    "from selenium.webdriver.common.keys import Keys\n",
    "\n",
    "import pandas as pd\n",
    "import html5lib\n",
    "from bs4 import BeautifulSoup\n",
    "import re\n",
    "import math\n",
    "from random import randint\n",
    "import os\n",
    "from time import sleep"
   ]
  },
  {
   "cell_type": "markdown",
   "metadata": {},
   "source": [
    "# CHANGE TITLE HERE"
   ]
  },
  {
   "cell_type": "code",
   "execution_count": 2,
   "metadata": {
    "collapsed": true
   },
   "outputs": [],
   "source": [
    "title = 'teacher'"
   ]
  },
  {
   "cell_type": "markdown",
   "metadata": {},
   "source": [
    "# Run Behind Proxies"
   ]
  },
  {
   "cell_type": "code",
   "execution_count": 3,
   "metadata": {
    "collapsed": false
   },
   "outputs": [],
   "source": [
    "#driver.close()"
   ]
  },
  {
   "cell_type": "code",
   "execution_count": 4,
   "metadata": {
    "collapsed": true
   },
   "outputs": [],
   "source": [
    "phantom_path = '/usr/local/bin/phantomjs'\n",
    "\n",
    "service_args = ['--proxy=proxy-nl.privateinternetaccess.com:1080', \n",
    "                '--proxy-type=socks5', \n",
    "                '--proxy-auth=x6122622:rtQokhs2Dd',\n",
    "                '--web-security=false',\n",
    "                '--ignore-ssl-errors=true']\n",
    "\n",
    "driver = webdriver.PhantomJS(phantom_path, service_args=service_args)"
   ]
  },
  {
   "cell_type": "code",
   "execution_count": 5,
   "metadata": {
    "collapsed": false
   },
   "outputs": [],
   "source": [
    "driver.get('https://secure.indeed.com/account/login?service=rex&hl=en_US&co=US&cfb=2&continue=http%3A%2F%2Fwww.indeed.com%2Fresumes')"
   ]
  },
  {
   "cell_type": "code",
   "execution_count": null,
   "metadata": {
    "collapsed": false
   },
   "outputs": [],
   "source": [
    "driver.set_window_size(1080,720)\n",
    "try:\n",
    "    username_form = driver.find_element_by_id('signin_email')\n",
    "    username_form.send_keys(\"bryantbiggs@gmail.com\")\n",
    "    username_form.send_keys(Keys.TAB)\n",
    "except Exception:\n",
    "    driver.save_screenshot('email.png')\n",
    "    driver.close()"
   ]
  },
  {
   "cell_type": "code",
   "execution_count": null,
   "metadata": {
    "collapsed": true
   },
   "outputs": [],
   "source": [
    "driver.set_window_size(1920,1080)\n",
    "try:\n",
    "    password_form = driver.find_element_by_id('signin_password')\n",
    "    password_form.send_keys(\"Yamaharx1!\")\n",
    "    password_form.send_keys(Keys.ENTER)\n",
    "except Exception:\n",
    "    driver.save_screenshot('password.png')\n",
    "    driver.close()"
   ]
  },
  {
   "cell_type": "code",
   "execution_count": null,
   "metadata": {
    "collapsed": false
   },
   "outputs": [],
   "source": [
    "driver.save_screenshot('logged.png')"
   ]
  },
  {
   "cell_type": "code",
   "execution_count": null,
   "metadata": {
    "collapsed": true
   },
   "outputs": [],
   "source": [
    "_ = '''\n",
    "import requests\n",
    "import socket\n",
    "import socks\n",
    "\n",
    "PORT = 1080\n",
    "# no authentication\n",
    "# socks.set_default_proxy(socks.SOCKS5, \"localhost\")\n",
    "# with Authentication\n",
    "socks.set_default_proxy(socks.SOCKS5, \"proxy-nl.privateinternetaccess.com\",PORT,True,\"x6122622\",\"ZzQCgNVhum\")\n",
    "socket.socket = socks.socksocket\n",
    "'''"
   ]
  },
  {
   "cell_type": "markdown",
   "metadata": {},
   "source": [
    "# Show Current IP"
   ]
  },
  {
   "cell_type": "code",
   "execution_count": null,
   "metadata": {
    "collapsed": true
   },
   "outputs": [],
   "source": [
    "def print_ip():\n",
    "    try:\n",
    "        url = 'http://www.showmyip.gr/'\n",
    "        driver.get(url)\n",
    "\n",
    "        html = driver.page_source\n",
    "        soup = BeautifulSoup(html, 'lxml')\n",
    "\n",
    "        # get tag with ip address\n",
    "        ip_tag = soup.find(attrs={'class': 'ip_address'})\n",
    "        ip = (re.findall(r'''([0-9.]+)''', str(ip_tag)))[0]\n",
    "        return ip\n",
    "    except:\n",
    "        return '#'*30"
   ]
  },
  {
   "cell_type": "code",
   "execution_count": null,
   "metadata": {
    "collapsed": false
   },
   "outputs": [],
   "source": [
    "print_ip()"
   ]
  },
  {
   "cell_type": "markdown",
   "metadata": {},
   "source": [
    "# Get Number of Pages for Title"
   ]
  },
  {
   "cell_type": "code",
   "execution_count": null,
   "metadata": {
    "collapsed": false
   },
   "outputs": [],
   "source": [
    "def num_results(title):\n",
    "    url = 'http://www.indeed.com/resumes?q={0}&co=US'.format(title)\n",
    "    driver.get(url)\n",
    "    \n",
    "    # get page with selenium and pass to beautiful soup\n",
    "    html = driver.page_source\n",
    "    soup = BeautifulSoup(html, 'lxml')\n",
    "\n",
    "    # get number of results for query\n",
    "    result_count = soup.find(attrs={'id': 'result_count'})\n",
    "\n",
    "    try:\n",
    "        # grab number only\n",
    "        num = (re.findall(r'''([0-9,]+)''', str(result_count)))[0]\n",
    "        num = int(num.replace(',', ''))\n",
    "        return num\n",
    "    except:\n",
    "        return 0"
   ]
  },
  {
   "cell_type": "code",
   "execution_count": null,
   "metadata": {
    "collapsed": false
   },
   "outputs": [],
   "source": [
    "num_results(title)"
   ]
  },
  {
   "cell_type": "markdown",
   "metadata": {},
   "source": [
    "# Navigate to Subsequent Pages"
   ]
  },
  {
   "cell_type": "code",
   "execution_count": null,
   "metadata": {
    "collapsed": false
   },
   "outputs": [],
   "source": [
    "_ = '''\n",
    "def navigate(start_page):\n",
    "# return web page source for scraping names\n",
    "    try:\n",
    "        next_button = driver.find_element_by_xpath('//a[@href=\"{0}\"]'.format('?q=c&co=US&start={0}'.format(str(start_page))))\n",
    "        next_button.click()\n",
    "    except:\n",
    "        pass\n",
    "    \n",
    "    #sleep(5)\n",
    "    html = driver.page_source\n",
    "    \n",
    "    return BeautifulSoup(html, 'lxml')\n",
    "'''"
   ]
  },
  {
   "cell_type": "markdown",
   "metadata": {},
   "source": [
    "# Make List of Links"
   ]
  },
  {
   "cell_type": "code",
   "execution_count": null,
   "metadata": {
    "collapsed": false
   },
   "outputs": [],
   "source": [
    "def make_links(title):\n",
    "    list_links = []\n",
    "    list_links.append('http://www.indeed.com/resumes?q={0}&co=US'.format(title))\n",
    "\n",
    "    for start_page in range(50, num_results(title), 50):\n",
    "        list_links.append('http://www.indeed.com/resumes?q={0}&co=US&start={1}'.format(title, str(start_page)))\n",
    "\n",
    "    return list_links"
   ]
  },
  {
   "cell_type": "code",
   "execution_count": null,
   "metadata": {
    "collapsed": false
   },
   "outputs": [],
   "source": [
    "list_names = make_links(title)\n",
    "#list_names = list_names[20:]"
   ]
  },
  {
   "cell_type": "code",
   "execution_count": null,
   "metadata": {
    "collapsed": false
   },
   "outputs": [],
   "source": [
    "list_names[0]"
   ]
  },
  {
   "cell_type": "code",
   "execution_count": null,
   "metadata": {
    "collapsed": true
   },
   "outputs": [],
   "source": [
    "def get_users(url):\n",
    "    temp = []\n",
    "    ct = 0\n",
    "    while len(temp) == 0:\n",
    "        if ct >= 5: break\n",
    "        try:\n",
    "            driver.get(url)\n",
    "            driver.save_screenshot('pics/{0}.png'.format(url[-15:]))\n",
    "            ct += 1\n",
    "            ### SLEEP\n",
    "            sleep(randint(2,8))\n",
    "            ### SLEEP\n",
    "            html = driver.page_source\n",
    "            soup = BeautifulSoup(html, 'lxml')\n",
    "            \n",
    "            # find users\n",
    "            list_of_people = soup.find_all(attrs={'class':'clickable_resume_card'})\n",
    "            # make list of users found\n",
    "            temp = [re.search(r'''(\\/.+)\\?''', person.get('onclick')).group() for person in list_of_people]\n",
    "        except:\n",
    "            continue\n",
    "\n",
    "    return temp"
   ]
  },
  {
   "cell_type": "code",
   "execution_count": null,
   "metadata": {
    "collapsed": false
   },
   "outputs": [],
   "source": [
    "def scrape_users(title):\n",
    "    # cleanup previous file versions before starting due to append\n",
    "    f = '{0}.csv'.format(title)\n",
    "    if os.path.exists(f): os.remove(f)\n",
    "    if os.path.exists(f): os.remove('failed.csv')\n",
    "    \n",
    "    ttl = 0\n",
    "    ct = 0\n",
    "    # loop through pages\n",
    "    for name in list_names:\n",
    "            # make list of users found\n",
    "            temp = get_users(name)\n",
    "\n",
    "            # show what ip is being used\n",
    "            ttl += len(temp)\n",
    "            print('List: {0} --- {1}'.format(ttl, print_ip()))\n",
    "            \n",
    "            \n",
    "            # write list of names found to file\n",
    "            title = title.replace(' ', '_')\n",
    "            with open('{0}.csv'.format(title), 'a') as outfile:\n",
    "                for name in temp:\n",
    "                    outfile.write('{0}, \\n'.format(name))\n",
    "            ct += 1\n",
    "            if ct % 3 == 0:\n",
    "                driver.delete_all_cookies()"
   ]
  },
  {
   "cell_type": "code",
   "execution_count": null,
   "metadata": {
    "collapsed": true
   },
   "outputs": [],
   "source": [
    "def failed_page(title, start_page):\n",
    "    with open('failed.csv', 'a') as outfile:\n",
    "        outfile.write(('title:{0}, page_start:{1}, \\n').format(title, start_page))"
   ]
  },
  {
   "cell_type": "code",
   "execution_count": null,
   "metadata": {
    "collapsed": false
   },
   "outputs": [],
   "source": [
    "scrape_users(title)"
   ]
  },
  {
   "cell_type": "code",
   "execution_count": null,
   "metadata": {
    "collapsed": true
   },
   "outputs": [],
   "source": []
  },
  {
   "cell_type": "code",
   "execution_count": null,
   "metadata": {
    "collapsed": true
   },
   "outputs": [],
   "source": []
  }
 ],
 "metadata": {
  "kernelspec": {
   "display_name": "Python 3",
   "language": "python",
   "name": "python3"
  },
  "language_info": {
   "codemirror_mode": {
    "name": "ipython",
    "version": 3
   },
   "file_extension": ".py",
   "mimetype": "text/x-python",
   "name": "python",
   "nbconvert_exporter": "python",
   "pygments_lexer": "ipython3",
   "version": "3.5.2"
  }
 },
 "nbformat": 4,
 "nbformat_minor": 1
}
