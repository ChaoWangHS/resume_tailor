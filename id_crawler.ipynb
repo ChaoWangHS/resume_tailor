{
 "cells": [
  {
   "cell_type": "code",
   "execution_count": 1,
   "metadata": {
    "collapsed": true
   },
   "outputs": [],
   "source": [
    "from selenium import webdriver\n",
    "from selenium.webdriver.common.keys import Keys\n",
    "\n",
    "import pandas as pd\n",
    "import html5lib\n",
    "from bs4 import BeautifulSoup\n",
    "import re\n",
    "import math\n",
    "from random import randint\n",
    "import os\n",
    "from time import sleep"
   ]
  },
  {
   "cell_type": "markdown",
   "metadata": {},
   "source": [
    "# CHANGE TITLE HERE"
   ]
  },
  {
   "cell_type": "code",
   "execution_count": 2,
   "metadata": {
    "collapsed": true
   },
   "outputs": [],
   "source": [
    "title = 'software'"
   ]
  },
  {
   "cell_type": "markdown",
   "metadata": {},
   "source": [
    "# Run Behind Proxies"
   ]
  },
  {
   "cell_type": "code",
   "execution_count": 3,
   "metadata": {
    "collapsed": true
   },
   "outputs": [],
   "source": [
    "phantom_path = '/usr/local/bin/phantomjs'\n",
    "\n",
    "service_args = ['--proxy=proxy-nl.privateinternetaccess.com:1080', \n",
    "                '--proxy-type=socks5', \n",
    "                '--proxy-auth=x6122622:CrFQdE3Uab',\n",
    "                '--web-security=false',\n",
    "                '--ignore-ssl-errors=true']\n",
    "\n",
    "driver = webdriver.PhantomJS(phantom_path, service_args=service_args)"
   ]
  },
  {
   "cell_type": "code",
   "execution_count": 4,
   "metadata": {
    "collapsed": false
   },
   "outputs": [],
   "source": [
    "driver.get('https://secure.indeed.com/account/login?service=rex&hl=en_US&co=US&cfb=2&continue=http%3A%2F%2Fwww.indeed.com%2Fresumes')"
   ]
  },
  {
   "cell_type": "code",
   "execution_count": 5,
   "metadata": {
    "collapsed": false
   },
   "outputs": [],
   "source": [
    "driver.set_window_size(1080,720)\n",
    "try:\n",
    "    username_form = driver.find_element_by_id('signin_email')\n",
    "    username_form.send_keys(\"bryantbiggs@gmail.com\")\n",
    "    username_form.send_keys(Keys.TAB)\n",
    "except Exception:\n",
    "    driver.save_screenshot('email.png')\n",
    "    driver.close()"
   ]
  },
  {
   "cell_type": "code",
   "execution_count": 6,
   "metadata": {
    "collapsed": false
   },
   "outputs": [],
   "source": [
    "driver.set_window_size(1080,720)\n",
    "try:\n",
    "    password_form = driver.find_element_by_id('signin_password')\n",
    "    password_form.send_keys(\"Yamaharx1!\")\n",
    "    password_form.send_keys(Keys.ENTER)\n",
    "except Exception:\n",
    "    driver.save_screenshot('password.png')\n",
    "    driver.close()"
   ]
  },
  {
   "cell_type": "markdown",
   "metadata": {},
   "source": [
    "# Show Current IP"
   ]
  },
  {
   "cell_type": "code",
   "execution_count": 7,
   "metadata": {
    "collapsed": true
   },
   "outputs": [],
   "source": [
    "def print_ip():\n",
    "    try:\n",
    "        url = 'http://www.showmyip.gr/'\n",
    "        driver.get(url)\n",
    "\n",
    "        html = driver.page_source\n",
    "        soup = BeautifulSoup(html, 'lxml')\n",
    "\n",
    "        # get tag with ip address\n",
    "        ip_tag = soup.find(attrs={'class': 'ip_address'})\n",
    "        ip = (re.findall(r'''([0-9.]+)''', str(ip_tag)))[0]\n",
    "        return ip\n",
    "    except:\n",
    "        return '#'*30"
   ]
  },
  {
   "cell_type": "markdown",
   "metadata": {},
   "source": [
    "# Get Number of Pages for Title"
   ]
  },
  {
   "cell_type": "code",
   "execution_count": 8,
   "metadata": {
    "collapsed": false
   },
   "outputs": [],
   "source": [
    "def num_results(title):\n",
    "    url = 'http://www.indeed.com/resumes?q={0}&co=US'.format(title)\n",
    "    driver.get(url)\n",
    "    \n",
    "    # get page with selenium and pass to beautiful soup\n",
    "    html = driver.page_source\n",
    "    soup = BeautifulSoup(html, 'lxml')\n",
    "\n",
    "    # get number of results for query\n",
    "    result_count = soup.find(attrs={'id': 'result_count'})\n",
    "\n",
    "    try:\n",
    "        # grab number only\n",
    "        num = (re.findall(r'''([0-9,]+)''', str(result_count)))[0]\n",
    "        num = int(num.replace(',', ''))\n",
    "        return num\n",
    "    except:\n",
    "        return 0"
   ]
  },
  {
   "cell_type": "code",
   "execution_count": 9,
   "metadata": {
    "collapsed": false
   },
   "outputs": [
    {
     "data": {
      "text/plain": [
       "4660795"
      ]
     },
     "execution_count": 9,
     "metadata": {},
     "output_type": "execute_result"
    }
   ],
   "source": [
    "num_results(title)"
   ]
  },
  {
   "cell_type": "markdown",
   "metadata": {},
   "source": [
    "# Make List of Links"
   ]
  },
  {
   "cell_type": "code",
   "execution_count": 10,
   "metadata": {
    "collapsed": false
   },
   "outputs": [],
   "source": [
    "def make_links(title):\n",
    "    list_links = []\n",
    "    list_links.append('http://www.indeed.com/resumes?q={0}&co=US'.format(title))\n",
    "\n",
    "    for start_page in range(50, num_results(title), 50):\n",
    "        list_links.append('http://www.indeed.com/resumes?q={0}&co=US&start={1}'.format(title, str(start_page)))\n",
    "\n",
    "    return list_links"
   ]
  },
  {
   "cell_type": "code",
   "execution_count": 11,
   "metadata": {
    "collapsed": false
   },
   "outputs": [
    {
     "data": {
      "text/plain": [
       "'http://www.indeed.com/resumes?q=software&co=US'"
      ]
     },
     "execution_count": 11,
     "metadata": {},
     "output_type": "execute_result"
    }
   ],
   "source": [
    "list_names = make_links(title)\n",
    "list_names[0]"
   ]
  },
  {
   "cell_type": "code",
   "execution_count": 12,
   "metadata": {
    "collapsed": true
   },
   "outputs": [],
   "source": [
    "def get_users(url):\n",
    "    temp = []\n",
    "    ct = 0\n",
    "    while len(temp) == 0:\n",
    "        if ct >= 5: break\n",
    "        try:\n",
    "            driver.get(url)\n",
    "            driver.save_screenshot('pics/{0}.png'.format(url[-15:]))\n",
    "            ct += 1\n",
    "            ### SLEEP\n",
    "            sleep(randint(2,8))\n",
    "            ### SLEEP\n",
    "            html = driver.page_source\n",
    "            soup = BeautifulSoup(html, 'lxml')\n",
    "            \n",
    "            # find users\n",
    "            list_of_people = soup.find_all(attrs={'class':'clickable_resume_card'})\n",
    "            # make list of users found\n",
    "            temp = [re.search(r'''(\\/.+)\\?''', person.get('onclick')).group() for person in list_of_people]\n",
    "        except:\n",
    "            continue\n",
    "\n",
    "    return temp"
   ]
  },
  {
   "cell_type": "code",
   "execution_count": 13,
   "metadata": {
    "collapsed": false
   },
   "outputs": [],
   "source": [
    "def scrape_users(title):\n",
    "    # cleanup previous file versions before starting due to append\n",
    "    f = '{0}.csv'.format(title)\n",
    "    if os.path.exists(f): os.remove(f)\n",
    "    if os.path.exists(f): os.remove('failed.csv')\n",
    "    \n",
    "    ttl = 0 # count\n",
    "    ct = 0\n",
    "    # loop through pages\n",
    "    for name in list_names:\n",
    "            # make list of users found\n",
    "            temp = get_users(name)\n",
    "\n",
    "            # show what ip is being used\n",
    "            before = ttl\n",
    "            ttl += len(temp)\n",
    "            print('List: {0} --- {1}'.format(ttl, print_ip()))\n",
    "            \n",
    "            if before != ttl:\n",
    "                # write list of names found to file\n",
    "                title = title.replace(' ', '_')\n",
    "                with open('data/{0}.csv'.format(title), 'a') as outfile:\n",
    "                    for name in temp:\n",
    "                        outfile.write('{0}, \\n'.format(name))\n",
    "                ct += 1\n",
    "                if ct % 3 == 0:\n",
    "                    driver.delete_all_cookies()\n",
    "            else:\n",
    "                print('#'*80)\n",
    "                print('No new results')\n",
    "                print('#'*80)\n",
    "                failed_page(title, ttl)\n",
    "                driver.dispose()\n",
    "                break"
   ]
  },
  {
   "cell_type": "code",
   "execution_count": 14,
   "metadata": {
    "collapsed": true
   },
   "outputs": [],
   "source": [
    "def failed_page(title, start_page):\n",
    "    with open('failed.csv', 'a') as outfile:\n",
    "        outfile.write(('title:{0}, page_start:{1}, \\n').format(title, start_page))"
   ]
  },
  {
   "cell_type": "code",
   "execution_count": 15,
   "metadata": {
    "collapsed": false
   },
   "outputs": [
    {
     "name": "stdout",
     "output_type": "stream",
     "text": [
      "List: 0 --- 109.201.154.207\n",
      "################################################################################\n",
      "No new results\n",
      "################################################################################\n"
     ]
    },
    {
     "ename": "AttributeError",
     "evalue": "'WebDriver' object has no attribute 'dispose'",
     "output_type": "error",
     "traceback": [
      "\u001b[0;31m---------------------------------------------------------------------------\u001b[0m",
      "\u001b[0;31mAttributeError\u001b[0m                            Traceback (most recent call last)",
      "\u001b[0;32m<ipython-input-15-73e4d8388905>\u001b[0m in \u001b[0;36m<module>\u001b[0;34m()\u001b[0m\n\u001b[0;32m----> 1\u001b[0;31m \u001b[0mscrape_users\u001b[0m\u001b[0;34m(\u001b[0m\u001b[0mtitle\u001b[0m\u001b[0;34m)\u001b[0m\u001b[0;34m\u001b[0m\u001b[0m\n\u001b[0m",
      "\u001b[0;32m<ipython-input-13-efeed4343644>\u001b[0m in \u001b[0;36mscrape_users\u001b[0;34m(title)\u001b[0m\n\u001b[1;32m     31\u001b[0m                 \u001b[0mprint\u001b[0m\u001b[0;34m(\u001b[0m\u001b[0;34m'#'\u001b[0m\u001b[0;34m*\u001b[0m\u001b[0;36m80\u001b[0m\u001b[0;34m)\u001b[0m\u001b[0;34m\u001b[0m\u001b[0m\n\u001b[1;32m     32\u001b[0m                 \u001b[0mfailed_page\u001b[0m\u001b[0;34m(\u001b[0m\u001b[0mtitle\u001b[0m\u001b[0;34m,\u001b[0m \u001b[0mttl\u001b[0m\u001b[0;34m)\u001b[0m\u001b[0;34m\u001b[0m\u001b[0m\n\u001b[0;32m---> 33\u001b[0;31m                 \u001b[0mdriver\u001b[0m\u001b[0;34m.\u001b[0m\u001b[0mdispose\u001b[0m\u001b[0;34m(\u001b[0m\u001b[0;34m)\u001b[0m\u001b[0;34m\u001b[0m\u001b[0m\n\u001b[0m\u001b[1;32m     34\u001b[0m                 \u001b[0;32mbreak\u001b[0m\u001b[0;34m\u001b[0m\u001b[0m\n",
      "\u001b[0;31mAttributeError\u001b[0m: 'WebDriver' object has no attribute 'dispose'"
     ]
    }
   ],
   "source": [
    "scrape_users(title)"
   ]
  },
  {
   "cell_type": "code",
   "execution_count": null,
   "metadata": {
    "collapsed": true
   },
   "outputs": [],
   "source": []
  },
  {
   "cell_type": "code",
   "execution_count": null,
   "metadata": {
    "collapsed": true
   },
   "outputs": [],
   "source": [
    "# data stopped at 5000\n",
    "# analytics"
   ]
  }
 ],
 "metadata": {
  "kernelspec": {
   "display_name": "Python 3",
   "language": "python",
   "name": "python3"
  },
  "language_info": {
   "codemirror_mode": {
    "name": "ipython",
    "version": 3
   },
   "file_extension": ".py",
   "mimetype": "text/x-python",
   "name": "python",
   "nbconvert_exporter": "python",
   "pygments_lexer": "ipython3",
   "version": "3.5.2"
  }
 },
 "nbformat": 4,
 "nbformat_minor": 1
}
