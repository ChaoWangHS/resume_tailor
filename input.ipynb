{
 "cells": [
  {
   "cell_type": "code",
   "execution_count": 108,
   "metadata": {
    "collapsed": true
   },
   "outputs": [],
   "source": [
    "from sklearn.feature_extraction.text import CountVectorizer\n",
    "from sklearn.decomposition import LatentDirichletAllocation\n",
    "\n",
    "import gensim\n",
    "from gensim import corpora, models, similarities\n",
    "\n",
    "import nltk\n",
    "from nltk.stem.porter import PorterStemmer\n",
    "from nltk.stem.lancaster import LancasterStemmer\n",
    "from nltk.corpus import stopwords\n",
    "\n",
    "from pymongo import MongoClient\n",
    "from time import time\n",
    "from collections import Counter, defaultdict\n",
    "from textblob import TextBlob\n",
    "import pandas as pd\n",
    "import numpy as np\n",
    "import operator\n",
    "import re\n",
    "import os\n",
    "import pickle"
   ]
  },
  {
   "cell_type": "markdown",
   "metadata": {},
   "source": [
    "# Load Resume"
   ]
  },
  {
   "cell_type": "code",
   "execution_count": 164,
   "metadata": {
    "collapsed": false
   },
   "outputs": [],
   "source": [
    "with open('BryantBiggs_mod.txt', 'r') as f:\n",
    "    new_resume = f.read().strip()"
   ]
  },
  {
   "cell_type": "code",
   "execution_count": 165,
   "metadata": {
    "collapsed": false
   },
   "outputs": [
    {
     "data": {
      "text/plain": [
       "'BRYANT J. BIGGS\\n                          3134 Avalon Way           *            Bloomingdale, New Jersey            *            bryantbiggs@gmail.com\\n\\nEDUCATION\\nPurdue University - West Lafayette, IN\\nBachelor of Science - M.E.T.\\nReceived - December 19, 2009\\t\\t\\t\\nProgram GPA - 3.28/4.00\\n\\nArizona State University - Tempe, AZ\\nBachelor of Science - Software Eng.\\nExpected - February, 2017\\t\\t\\nProgram GPA - 4.00/4.00\\n\\t    \\n\\nEXPERIENCE\\nDATA SCIENTIST\\n         Metis - New York City, NY. June, 2016 - Current\\nAn immersive 12 week data science boot camp to learn and apply concepts such as data science, data mining, supervised (SVM, decision trees, random forests, KNN) and unsupervised (NLP, KMeans) machine learning, statistical inference, Bayesian statistics, regression analysis, data visualization, and cloud computing.\\nTechnologies used/taught:\\n  ? Python - Scikit-learn, SciPy, NumPy, Pandas, BeautifulSoup, Selenium, Matplotlib, Flask, Django\\n  ? Javascript - D3.js, jQuery \\n  ? SQL and NoSQL databases - PostgreSQL, MongoDB\\n \\t   ? Apache - Hadoop, MapReduce, and Spark.\\nAPPLICATION ENGINEER\\n         Saint-Gobain Performance Plastics - Wayne, NJ. June, 2014 - Current\\n* Product design for PTFE based plain bearings used primarily in automotive and high-performance bicycle applications.\\n* New product application development from initial prototype through launch within a global engineering team. \\n* Development of enterprise applications to assist in rapid engineering drawing/document creation, automated script to create design based recommendation document for customers, material usage calculator, Inventor based script to automate detail drawings, and macro based 3D parametric models to create internal and external tool sets.\\n* Maintained multiple Access database used in project tracking. Designed and created new database used by North American HR team to review employee performance metrics and career growth. \\nPRODUCT ENGINEER\\n         Wyman-Gordon - Grafton, MA. December, 2012 - May, 2014\\n* Three-dimensional design of forging process models, forging dies, heat treatment and machining fixtures.\\n* Finite elemental analysis (FEA) of material flow, cavity fill, defect analysis, tool stress, and dead-zone mitigation.\\n* Continuous cost reduction efforts with emphasis on material utilization and reduction in operational steps.\\n* Process and product documentation improvement - work instructions and master router.\\n* Led new product introduction to educate facility on new products.\\n DESIGN ENGINEER\\n         Stalcop U.S. L.P. - Thorntown, IN. March, 2010 - November, 2012\\n* Tool design research and development for cold-forming ferrous and non-ferrous metals. \\n* Process design for high and low volume manufacturing as well as prototype development. \\n* Finite elemental analysis (FEA) of material flow and tool stress using Deform 2D/3D/F3.\\n* Quality documentation including PPAP documentation, PFMEA, capability studies, gage R&R, process control plan, process/inspection flow diagram, and sample inspection reports. \\nSOFTWARE PROFICIENCIES\\n\\nMicrosoft Office\\nSolidWorks\\nAutodesk Inventor \\nVisual Studio & VBA\\nPython\\nSQL\\nMachine Learning\\nMongoDB \\nPostgreSQL \\nNumPy, SciPy\\nGithub'"
      ]
     },
     "execution_count": 165,
     "metadata": {},
     "output_type": "execute_result"
    }
   ],
   "source": [
    "new_resume"
   ]
  },
  {
   "cell_type": "markdown",
   "metadata": {},
   "source": [
    "# City, State Abbreviation List"
   ]
  },
  {
   "cell_type": "code",
   "execution_count": 166,
   "metadata": {
    "collapsed": false
   },
   "outputs": [],
   "source": [
    "with open(r'pkl/cities.pkl', 'rb') as infile:\n",
    "       cities = pickle.load(infile)\n",
    "\n",
    "with open(r'pkl/abbr.pkl', 'rb') as infile:\n",
    "       abbr = pickle.load(infile)"
   ]
  },
  {
   "cell_type": "markdown",
   "metadata": {},
   "source": [
    "# Clean Text"
   ]
  },
  {
   "cell_type": "code",
   "execution_count": 167,
   "metadata": {
    "collapsed": true
   },
   "outputs": [],
   "source": [
    "# remove special characters\n",
    "new_resume = re.sub(r'([-/*&%+();?.,@#$^])', ' ', new_resume)\n",
    "\n",
    "cleaner = ['\\xa0']\n",
    "for c in cleaner:\n",
    "    new_resume = new_resume.replace(c,'')\n",
    "\n",
    "# remove multiple white spaces\n",
    "new_resume = re.sub('\\n',' ', new_resume)\n",
    "new_resume = re.sub('\\t',' ', new_resume)\n",
    "new_resume = re.sub(r'''[^0-9a-zA-Z ]+''', '', new_resume)\n",
    "new_resume = re.sub(' +',' ', new_resume)"
   ]
  },
  {
   "cell_type": "code",
   "execution_count": 168,
   "metadata": {
    "collapsed": false
   },
   "outputs": [
    {
     "data": {
      "text/plain": [
       "'BRYANT J BIGGS 3134 Avalon Way Bloomingdale New Jersey bryantbiggs gmail com EDUCATION Purdue University West Lafayette IN Bachelor of Science M E T Received December 19 2009 Program GPA 3 28 4 00 Arizona State University Tempe AZ Bachelor of Science Software Eng Expected February 2017 Program GPA 4 00 4 00 EXPERIENCE DATA SCIENTIST Metis New York City NY June 2016 Current An immersive 12 week data science boot camp to learn and apply concepts such as data science data mining supervised SVM decision trees random forests KNN and unsupervised NLP KMeans machine learning statistical inference Bayesian statistics regression analysis data visualization and cloud computing Technologies used taught Python Scikit learn SciPy NumPy Pandas BeautifulSoup Selenium Matplotlib Flask Django Javascript D3 js jQuery SQL and NoSQL databases PostgreSQL MongoDB Apache Hadoop MapReduce and Spark APPLICATION ENGINEER Saint Gobain Performance Plastics Wayne NJ June 2014 Current Product design for PTFE based plain bearings used primarily in automotive and high performance bicycle applications New product application development from initial prototype through launch within a global engineering team Development of enterprise applications to assist in rapid engineering drawing document creation automated script to create design based recommendation document for customers material usage calculator Inventor based script to automate detail drawings and macro based 3D parametric models to create internal and external tool sets Maintained multiple Access database used in project tracking Designed and created new database used by North American HR team to review employee performance metrics and career growth PRODUCT ENGINEER Wyman Gordon Grafton MA December 2012 May 2014 Three dimensional design of forging process models forging dies heat treatment and machining fixtures Finite elemental analysis FEA of material flow cavity fill defect analysis tool stress and dead zone mitigation Continuous cost reduction efforts with emphasis on material utilization and reduction in operational steps Process and product documentation improvement work instructions and master router Led new product introduction to educate facility on new products DESIGN ENGINEER Stalcop U S L P Thorntown IN March 2010 November 2012 Tool design research and development for cold forming ferrous and non ferrous metals Process design for high and low volume manufacturing as well as prototype development Finite elemental analysis FEA of material flow and tool stress using Deform 2D 3D F3 Quality documentation including PPAP documentation PFMEA capability studies gage R R process control plan process inspection flow diagram and sample inspection reports SOFTWARE PROFICIENCIES Microsoft Office SolidWorks Autodesk Inventor Visual Studio VBA Python SQL Machine Learning MongoDB PostgreSQL NumPy SciPy Github'"
      ]
     },
     "execution_count": 168,
     "metadata": {},
     "output_type": "execute_result"
    }
   ],
   "source": [
    "new_resume"
   ]
  },
  {
   "cell_type": "markdown",
   "metadata": {},
   "source": [
    "# Remove StopWords"
   ]
  },
  {
   "cell_type": "code",
   "execution_count": 169,
   "metadata": {
    "collapsed": false
   },
   "outputs": [],
   "source": [
    "# cache stopwords first to reduce compute time\n",
    "cachedStopWords = stopwords.words(\"english\")\n",
    "cachedStopWords += ['tot']\n",
    "cachedStopWords += cities\n",
    "cachedStopWords += abbr\n",
    "cachedStopWords = list(set(cachedStopWords))"
   ]
  },
  {
   "cell_type": "code",
   "execution_count": 170,
   "metadata": {
    "collapsed": false
   },
   "outputs": [
    {
     "name": "stdout",
     "output_type": "stream",
     "text": [
      "300\n"
     ]
    }
   ],
   "source": [
    "# convert all text to lower case and separate into list\n",
    "res_text = [x for x in new_resume.lower().split()]\n",
    "\n",
    "# remove stopwords\n",
    "res_text = ' '.join([item for item in res_text if item not in cachedStopWords])\n",
    "print(len(res_text.split()))"
   ]
  },
  {
   "cell_type": "code",
   "execution_count": 171,
   "metadata": {
    "collapsed": false
   },
   "outputs": [
    {
     "data": {
      "text/plain": [
       "'j 3134 bryantbiggs gmail com education bachelor e received december 19 2009 program gpa 3 28 4 00 bachelor software eng expected february 2017 program gpa 4 00 4 00 experience data scientist metis 2016 current immersive 12 week data boot learn apply concepts data data mining supervised svm decision trees forests knn unsupervised nlp kmeans machine learning statistical inference bayesian statistics regression analysis data visualization computing technologies used taught python scikit learn scipy numpy pandas beautifulsoup selenium matplotlib flask django javascript d3 js jquery sql nosql databases postgresql mongodb hadoop mapreduce spark application engineer gobain performance plastics nj 2014 current product ptfe based bearings used primarily automotive performance bicycle applications product application development initial prototype launch within global engineering team development applications assist engineering drawing document creation automated script create based recommendation document customers material usage calculator inventor based script automate detail drawings macro based 3d parametric models create internal external tool sets maintained multiple access database used project tracking designed created database used hr team review employee performance metrics career growth product engineer wyman december 2012 2014 dimensional forging process models forging dies heat treatment machining fixtures finite elemental analysis fea material flow cavity fill defect analysis tool stress dead zone mitigation continuous cost reduction efforts emphasis material utilization reduction operational steps process product documentation improvement work instructions master router led product introduction educate facility products engineer stalcop u l p 2010 november 2012 tool development forming ferrous non ferrous metals process volume manufacturing well prototype development finite elemental analysis fea material flow tool stress using deform 2d 3d f3 quality documentation including ppap documentation pfmea capability studies r r process control plan process inspection flow diagram sample inspection reports software proficiencies microsoft office solidworks autodesk inventor visual vba python sql machine learning mongodb postgresql numpy scipy github'"
      ]
     },
     "execution_count": 171,
     "metadata": {},
     "output_type": "execute_result"
    }
   ],
   "source": [
    "res_text"
   ]
  },
  {
   "cell_type": "markdown",
   "metadata": {},
   "source": [
    "# More Cleaning (Ugly - Fix Me)"
   ]
  },
  {
   "cell_type": "code",
   "execution_count": 172,
   "metadata": {
    "collapsed": false
   },
   "outputs": [
    {
     "name": "stdout",
     "output_type": "stream",
     "text": [
      "300\n"
     ]
    },
    {
     "data": {
      "text/plain": [
       "'j 3134 bryantbiggs gmail com education bachelor e received december 19 2009 program gpa 3 28 4 00 bachelor software eng expected february 2017 program gpa 4 00 4 00 experience data scientist metis 2016 current immersive 12 week data boot learn apply concepts data data mining supervised svm decision trees forests knn unsupervised nlp kmeans machine learning statistical inference bayesian statistics regression analysis data visualization computing technologies used taught python scikit learn scipy numpy pandas beautifulsoup selenium matplotlib flask django javascript d3 js jquery sql nosql databases postgresql mongodb hadoop mapreduce spark application engineer gobain performance plastics nj 2014 current product ptfe based bearings used primarily automotive performance bicycle applications product application develop initial prototype launch within global engineer team develop applications assist engineer drawing document creation automated script create based recommendation document customers material usage calculator inventor based script automate detail drawings macro based 3d parametric models create internal external tool sets maintained multiple access database used project tracking designed created database used hr team review employee performance metrics career growth product engineer wyman december 2012 2014 dimensional forging process models forging dies heat treatment machining fixtures finite elemental analysis fea material flow cavity fill defect analysis tool stress dead zone mitigation continuous cost reduction efforts emphasis material utilization reduction operational steps process product documentation improvement work instructions master router led product introduction educate facility products engineer stalcop u l p 2010 november 2012 tool develop forming ferrous non ferrous metals process volume manufacturing well prototype develop finite elemental analysis fea material flow tool stress using deform 2d 3d f3 quality documentation including ppap documentation pfmea capability studies r r process control plan process inspection flow diagram sample inspection report software proficiencies microsoft office solidworks autodesk inventor visual vba python sql machine learning mongodb postgresql numpy scipy github'"
      ]
     },
     "execution_count": 172,
     "metadata": {},
     "output_type": "execute_result"
    }
   ],
   "source": [
    "res_text = res_text.replace('aacademic', 'academic')\n",
    "res_text = res_text.replace('aaccounts', 'account')\n",
    "res_text = res_text.replace('aaerobic', 'aerobic')\n",
    "res_text = res_text.replace('aademy', 'academy')\n",
    "\n",
    "res_text = res_text.replace('aanalyst', 'analyst')\n",
    "res_text = res_text.replace('aanalyzed', 'analyst')\n",
    "\n",
    "res_text = res_text.replace('reports', 'report')\n",
    "res_text = res_text.replace('reporting', 'report')\n",
    "\n",
    "res_text = res_text.replace('engineering', 'engineer')\n",
    "res_text = res_text.replace('engineers', 'engineer')\n",
    "\n",
    "res_text = res_text.replace('services', 'service')\n",
    "res_text = res_text.replace('servicing', 'service')\n",
    "\n",
    "res_text = res_text.replace('systems', 'system')\n",
    "\n",
    "res_text = res_text.replace('abandoned', 'abandon')\n",
    "res_text = res_text.replace('abandoner', 'abandon')\n",
    "res_text = res_text.replace('abandoning', 'abandon')\n",
    "res_text = res_text.replace('abandonment', 'abandon')\n",
    "res_text = res_text.replace('abandons', 'abandon')\n",
    "\n",
    "res_text = res_text.replace('management', 'manage')\n",
    "res_text = res_text.replace('manager', 'manage')\n",
    "\n",
    "res_text = res_text.replace('development', 'develop')\n",
    "res_text = res_text.replace('developer', 'develop')\n",
    "\n",
    "print(len(res_text.split()))\n",
    "res_text"
   ]
  },
  {
   "cell_type": "markdown",
   "metadata": {},
   "source": [
    "# Word Counts"
   ]
  },
  {
   "cell_type": "code",
   "execution_count": 173,
   "metadata": {
    "collapsed": false
   },
   "outputs": [],
   "source": [
    "def get_wordcount(text_list, min_ct=3, most_common=30, get_all=False):\n",
    "    '''\n",
    "    returns => most common\n",
    "    '''\n",
    "    # get wordcount counter object\n",
    "    word_count = Counter(text_list)\n",
    "\n",
    "    # remove words that occur min_ct times or less\n",
    "    word_count = Counter({k:v for k, v in word_count.items() if v >= min_ct})\n",
    "\n",
    "    if get_all:\n",
    "        # return all\n",
    "        word_count = word_count.items()\n",
    "    else:\n",
    "        # limit wordcounts for visualization\n",
    "        word_count = word_count.most_common(most_common)\n",
    "    \n",
    "    return word_count"
   ]
  },
  {
   "cell_type": "markdown",
   "metadata": {},
   "source": [
    "### Extrack Noun Phrases"
   ]
  },
  {
   "cell_type": "code",
   "execution_count": 174,
   "metadata": {
    "collapsed": false
   },
   "outputs": [
    {
     "data": {
      "text/plain": [
       "WordList(['bryantbiggs gmail com education bachelor e', 'program gpa', 'bachelor software eng', 'program gpa', 'experience data scientist metis', 'current immersive', 'week data boot', 'concepts data data', 'svm decision trees forests knn', 'nlp kmeans machine learning', 'statistical inference bayesian statistics regression analysis data visualization', 'python scikit', 'scipy numpy pandas beautifulsoup selenium matplotlib flask django javascript d3 js jquery sql nosql databases postgresql mongodb hadoop mapreduce', 'application engineer gobain performance plastics nj', 'current product ptfe', 'automotive performance bicycle applications product application', 'initial prototype launch', 'global engineer team', 'engineer drawing document creation', 'recommendation document customers material usage calculator inventor', 'script automate detail drawings macro', '3d parametric models', 'internal external tool', 'multiple access database', 'hr team review employee performance metrics career growth product engineer wyman december', 'process models', 'heat treatment', 'fixtures finite elemental analysis fea material flow cavity', 'defect analysis tool stress', 'dead zone mitigation', 'continuous cost reduction efforts emphasis material utilization reduction operational steps process product documentation improvement work instructions master router', 'product introduction educate facility products engineer stalcop u l p', 'ferrous non ferrous metals process volume', 'finite elemental analysis fea material flow tool stress', '3d f3 quality documentation', 'ppap documentation pfmea capability studies r r process control plan process inspection flow diagram sample inspection report software proficiencies microsoft office solidworks autodesk inventor visual vba python sql machine learning mongodb postgresql numpy scipy github'])"
      ]
     },
     "execution_count": 174,
     "metadata": {},
     "output_type": "execute_result"
    }
   ],
   "source": [
    "res_nouns = TextBlob(res_text).noun_phrases\n",
    "res_nouns"
   ]
  },
  {
   "cell_type": "markdown",
   "metadata": {},
   "source": [
    "### Merge Noun Phrases Back to Text String"
   ]
  },
  {
   "cell_type": "code",
   "execution_count": 175,
   "metadata": {
    "collapsed": false
   },
   "outputs": [
    {
     "data": {
      "text/plain": [
       "'bryantbiggs gmail com education bachelor e program gpa bachelor software eng program gpa experience data scientist metis current immersive week data boot concepts data data svm decision trees forests knn nlp kmeans machine learning statistical inference bayesian statistics regression analysis data visualization python scikit scipy numpy pandas beautifulsoup selenium matplotlib flask django javascript d3 js jquery sql nosql databases postgresql mongodb hadoop mapreduce application engineer gobain performance plastics nj current product ptfe automotive performance bicycle applications product application initial prototype launch global engineer team engineer drawing document creation recommendation document customers material usage calculator inventor script automate detail drawings macro 3d parametric models internal external tool multiple access database hr team review employee performance metrics career growth product engineer wyman december process models heat treatment fixtures finite elemental analysis fea material flow cavity defect analysis tool stress dead zone mitigation continuous cost reduction efforts emphasis material utilization reduction operational steps process product documentation improvement work instructions master router product introduction educate facility products engineer stalcop u l p ferrous non ferrous metals process volume finite elemental analysis fea material flow tool stress 3d f3 quality documentation ppap documentation pfmea capability studies r r process control plan process inspection flow diagram sample inspection report software proficiencies microsoft office solidworks autodesk inventor visual vba python sql machine learning mongodb postgresql numpy scipy github '"
      ]
     },
     "execution_count": 175,
     "metadata": {},
     "output_type": "execute_result"
    }
   ],
   "source": [
    "temp = []\n",
    "for i in res_nouns:\n",
    "    temp.append(i)\n",
    "\n",
    "res_nouns = ''\n",
    "for x in temp:\n",
    "    res_nouns += x + ' '\n",
    "res_nouns"
   ]
  },
  {
   "cell_type": "markdown",
   "metadata": {
    "collapsed": true
   },
   "source": [
    "### Tokenize the documents, remove stop words and words that only appear once"
   ]
  },
  {
   "cell_type": "code",
   "execution_count": 176,
   "metadata": {
    "collapsed": false
   },
   "outputs": [],
   "source": [
    "# remove common words and tokenize\n",
    "stoplist = set('for a of the and to in'.split())\n",
    "texts = [word for word in res_nouns.split()]\n",
    "\n",
    "# remove words that appear only once\n",
    "frequency = defaultdict(int)\n",
    "for text in texts:\n",
    "        frequency[text] += 1\n",
    "\n",
    "# remove words that occur less than n times\n",
    "texts = [token for token in texts if frequency[token] > 1]"
   ]
  },
  {
   "cell_type": "code",
   "execution_count": 177,
   "metadata": {
    "collapsed": false
   },
   "outputs": [],
   "source": [
    "str_text = ' '.join(texts)"
   ]
  },
  {
   "cell_type": "markdown",
   "metadata": {},
   "source": [
    "# Load Transformation Interface"
   ]
  },
  {
   "cell_type": "code",
   "execution_count": 178,
   "metadata": {
    "collapsed": false
   },
   "outputs": [
    {
     "name": "stdout",
     "output_type": "stream",
     "text": [
      "Sparse matrix LOADED as 'corpus'\n"
     ]
    }
   ],
   "source": [
    "# load sparse vector matrix\n",
    "if (os.path.exists('pkl/resume_token.mm')):\n",
    "    corpus = corpora.MmCorpus('pkl/resume_token.mm')\n",
    "    print('Sparse matrix LOADED as \\'corpus\\'')\n",
    "else:\n",
    "    print('Sparse matrix NOT FOUND')"
   ]
  },
  {
   "cell_type": "code",
   "execution_count": 179,
   "metadata": {
    "collapsed": false
   },
   "outputs": [
    {
     "name": "stdout",
     "output_type": "stream",
     "text": [
      "Tokenized dictionary LOADED as 'dictionary'\n"
     ]
    }
   ],
   "source": [
    "# load tokenized dictionary\n",
    "if (os.path.exists('pkl/resume_token.dict')):\n",
    "    dictionary = corpora.Dictionary.load('pkl/resume_token.dict')\n",
    "    print('Tokenized dictionary LOADED as \\'dictionary\\'')\n",
    "else:\n",
    "    print('Tokenized dictionary NOT FOUND')"
   ]
  },
  {
   "cell_type": "markdown",
   "metadata": {},
   "source": [
    "# Load Trained Model"
   ]
  },
  {
   "cell_type": "code",
   "execution_count": 180,
   "metadata": {
    "collapsed": true
   },
   "outputs": [],
   "source": [
    "lsi_mdl = models.LsiModel.load('pkl/lsi_mdl.lsi')"
   ]
  },
  {
   "cell_type": "code",
   "execution_count": 181,
   "metadata": {
    "collapsed": false
   },
   "outputs": [
    {
     "name": "stdout",
     "output_type": "stream",
     "text": [
      "[(0, 4.1890737721615015), (1, 0.023039548341981873), (2, 1.7245138544616001), (3, -0.35117028649083498), (4, 2.0275665799753484), (5, -0.33443548539765361), (6, 0.54307590115017113), (7, 1.679951413953862), (8, -1.189282438962171), (9, -3.0291138152702439), (10, 0.057594797230231691), (11, -0.16112496969211593), (12, -0.90883873691300032), (13, 0.46083935498708828), (14, 0.13334925572578391), (15, -2.4113033651482789), (16, 0.10934954196576055), (17, 1.1764494617618728), (18, 0.13858930567324715), (19, 0.082570584246127593), (20, 0.78933292264673038), (21, -0.34207711531897078), (22, 0.0014776902816088944), (23, -0.71325280063489049), (24, -0.82571080458009027), (25, 0.34032624791648758), (26, 1.9161529822969192), (27, -0.25108389900440498), (28, 0.25666584339334814), (29, 0.24004422994842953), (30, 0.38877242426613917), (31, -0.32009701564467935), (32, 0.14222161328227897), (33, -0.090667467335837498), (34, 0.23264500467028387), (35, 0.28350715496686996), (36, 0.83858248915488365), (37, 0.79186397593853419), (38, -0.31061295464487698), (39, -0.98931705093449007), (40, 0.46585791801480614), (41, -0.42413793276612488), (42, -0.25698164137177909), (43, 2.0857492905657011), (44, 0.11688983503901051), (45, 0.34778135709133073), (46, -1.2752498847293188), (47, -0.3510351438144288), (48, -0.037468269143038829), (49, -0.26973468656524602), (50, 0.56005579311235054), (51, -0.73780422049159744), (52, -1.2074932467703063), (53, 0.71226828757514926), (54, -0.90927297668099982), (55, -1.0658998752451014), (56, 0.16904617745732886), (57, 0.10307839752900938), (58, -0.53467249597235733), (59, 0.41386921701926838), (60, 0.86706924159751009), (61, 0.37532614637932044), (62, -0.19762316592911933), (63, 0.12274858479832446), (64, 0.22516276997315982), (65, -0.3309045749828502), (66, -0.74961916200783385), (67, 0.091148588844663356), (68, 0.1767827067262677), (69, -0.16800881264159129), (70, -0.29965672280414446), (71, -0.31631043752029186), (72, 0.67031134722213104), (73, -0.60094166793051995), (74, -0.23706890835294511), (75, -0.42399414263990648), (76, -0.31636491799255972), (77, 0.16908847053876086), (78, -0.48662987899714799), (79, 0.20585409730029827), (80, -0.78269200899497426), (81, -0.099202161302624325), (82, -0.30604083442049373), (83, 0.3326315611277792), (84, -0.29625358170187771), (85, -0.060212299833369898), (86, -0.37645144340893311), (87, -0.89609342723695606), (88, -0.23914417035012506), (89, 0.49745511081657351), (90, -0.11101351317199709), (91, -0.31671148259698706), (92, -0.14101121285681537), (93, -0.52450214813672957), (94, 0.22625425424373102), (95, -0.74609188147078165), (96, -0.28797215064024817), (97, 0.10359340916028328), (98, -0.64351412374425621), (99, 0.25867184737918225)]\n"
     ]
    }
   ],
   "source": [
    "vec_bow = dictionary.doc2bow(texts)\n",
    "vec_lsi = lsi_mdl[vec_bow] # convert the query to LSI space\n",
    "print(vec_lsi)"
   ]
  },
  {
   "cell_type": "code",
   "execution_count": 182,
   "metadata": {
    "collapsed": false
   },
   "outputs": [],
   "source": [
    "index = similarities.MatrixSimilarity(lsi_mdl[corpus])"
   ]
  },
  {
   "cell_type": "code",
   "execution_count": 185,
   "metadata": {
    "collapsed": true
   },
   "outputs": [],
   "source": [
    "# perform a similarity query against the corpus\n",
    "sims = index[vec_lsi] \n",
    "\n",
    "# (document_number, document_similarity)\n",
    "sim_lst = list(enumerate(sims))\n",
    "\n",
    "# sort relevant documents first\n",
    "sim_lst.sort(key=operator.itemgetter(1), reverse=False)"
   ]
  },
  {
   "cell_type": "code",
   "execution_count": 186,
   "metadata": {
    "collapsed": false
   },
   "outputs": [
    {
     "data": {
      "text/plain": [
       "[(3955, -0.0089570619),\n",
       " (16152, -0.0034703016),\n",
       " (16033, -0.00082496554),\n",
       " (15972, 0.0034999102),\n",
       " (16534, 0.0091814548)]"
      ]
     },
     "execution_count": 186,
     "metadata": {},
     "output_type": "execute_result"
    }
   ],
   "source": [
    "sim_lst[1:6]"
   ]
  },
  {
   "cell_type": "code",
   "execution_count": 140,
   "metadata": {
    "collapsed": false
   },
   "outputs": [
    {
     "data": {
      "text/plain": [
       "'hower chief engineer bore current product engineer bereid overal naartoe te verhuizen chief engineer bore current product engineer navistar inc engine engineer engineer efforts current product warranty cost reduction supplier requests navistar 11l 13l 15l bore engines immediate staff direction priorities engineer test organization warranty cost r process warranty diagnosis changes functional team important engine engine consumption control 13l engines project validation production implementation inventory control product changes root causes solutions multiple product performance warranty issues oversight participation 8d problem teams implementation solutions elimination warranty claims chief engineer navistar defense engine oem engine opportunities navistar inc engine engineer organization identify pursue opportunities navistar engines oem commercial military vehicle applications technical specifications analysis opportunities conversion dt570 i6 commercial truck engine military resistant ambush mrap vehicle application iraq afghanistan mrap contract competition bid proposal eventual award prototype vehicle assembly multiple opportunities commercial rvs trucks terminal tractors refuse trucks transit buses gen mrap jltv htt gmv mxt production volumes margins navistar engines entire fleet monaco rvs navistar engines company navistar vehicle quality performance additional engine production volumes technical processes validate implement product changes oem application requirements chief engineer inline engines navistar inc engine engineer initial program planning engineer coordination aspects i6 engine product programs engineer work i6 engine changes emissions strategy engineer group technical product definition program requirements emissions strategy engineer group different engine treatment hardware options comparison data impacts product performance total project cost final direction decision analysis manage vehicle performance customer needs company skills technical requirements vehicle engine engineer program manage emissions changes chief engineer vee engine navistar inc engine engineer engine functions 45l 60l engine family technical customer interfaces truck engines vehicle applications customer opportunities noise vibration harshness nvh characteristics analysis engine engine nvh improvement comprehensive vehicle noise engine family features innovative fuel system program installation introduction art production assembly equipment processes previous positions chief engineer medium heavy duty engine product engineer 73l di turbo 444e engine engineer 73l di turbo engine engineer engine v engine group engineer 69l 73l idi engine mba production manage graduate bachelor machine internal combustion engines vaardigheden microsoft office fmea dvpr lean 8d apqp links https wwwlinkedincom martyhower patenten fuel injector system fluid fuel passages aanvullende informatie technical skills proficient pc windows software word project powerpoint access fmea dvp r 8d process robustness principles qfd psdm'"
      ]
     },
     "execution_count": 140,
     "metadata": {},
     "output_type": "execute_result"
    }
   ],
   "source": [
    "df = pd.read_pickle('pkl/df_stop_noun.pkl')\n",
    "df.iloc[4462]['resume_nouns']"
   ]
  },
  {
   "cell_type": "code",
   "execution_count": 141,
   "metadata": {
    "collapsed": false
   },
   "outputs": [
    {
     "data": {
      "text/plain": [
       "'ritt materials engineer orthodontics hands product substantial experience multiple projects stringent quality system functional teams sophisticated analytical instruments bereid overal naartoe te verhuizen materials engineer orthodontics januari heden product engineer engineer project manage team leader project manage product process concept definition introduction necessary activities analysis reviews risk analysis verification validation requirements specifications test methods protocols significant experience erp pdm system drawings numbers descriptions boms routings engineer support product lines product life cycle introduction extensions discontinuation superfluous product continuous improvement process changes engineer expertise quality product updates drawings specifications processes procedures engineer analysis product customer complaints assistant aalto espoo juni espoo finland defects indium nitride journal physics conference series metallurgy intern luvata llc maart various alloys undergraduate assistant group mei pre strain si nanomembranes processing effect growth ge quantum dots surfaces engineer qa intern metaltek investcast division juni technical documents investment bs materials engineer december vaardigheden microsoft office tensile calorimetry hardness optical microscopy x diffraction sample preparation project manage product engineer devices heat treatment material analysis links https wwwlinkedincom ritt a31527104 publicaties defects http iopscienceioporg article various fluences study nature defects defects positron annihilation spectroscopy measurements different kinds defects implantation fluence measurements different results stable room temperature'"
      ]
     },
     "execution_count": 141,
     "metadata": {},
     "output_type": "execute_result"
    }
   ],
   "source": [
    "df.iloc[485]['resume_nouns']"
   ]
  },
  {
   "cell_type": "code",
   "execution_count": 142,
   "metadata": {
    "collapsed": false
   },
   "outputs": [
    {
     "data": {
      "text/plain": [
       "'dirks project engineer project engineer mechanical engineer responsibility mechanical functionality form factor product electromechanical current portfolio expertise project r 3d models fea mfa component correspondence venture suppliers quality activities capacitor product engineer manage correspondence suppliers engineer production requirements quality activities efforts double digit sales increase years travel regular intervals product coordinator testors rust oleum company volume automotive touch system product oem supplier wal diy automotive stores product projects work flow lean initiative reason engineer department senior product engineer multiple mechanical engineer activities battery chemistry startup company caterpillar inc r group form facture engineer cad fea complete battery storage enclosure inner structure complete product reason series c economic turn overseas senior engineer textron company mechanical engineer activates test measurement unit multiple domestic locations europe india product numerous professional consumer fiber optic handheld bench instruments unit reason global travel keithdirksdesigns gmailcom http wwwlinkedincom keithdirks innovation engineer wahl clipper numerous handheld professional consumer health products products patents correspondence attorneys domestic patents process trade secrets reason project engineer alloyd company multiple retail thermoform plastic r innovation department hour commute technical sales system technologies engineer cad software hardware service reason opportunity reenter engineer roll manage technical service engineer borgwarner automotive automotive oem engine transmission suspension fuel system components reason engineer department project engineer wahl clipper professional consumer health products reason career advancement mold maker designer climco coils tool career advancement internship time employment governor mechanical electrical engine bsme bachelor mechanical engineer machine trades vocational vocational plastics education leadership training manages links http wwwlinkedincom keithdirks aanvullende informatie technical skills solidworks r fixtures production autodesk inventor engineer doe metal finite element analyst fea concept prototype mold mold flow analyst mfa material bom electromechanical system office project software integral component failure mode effect analysis fmea engineer methods drawing gd asme analysis rca tolerance analyzes precision component assembly dfa component assembly level material selection manufacturability dfm precision component volume components service engineer solutions material selection verbal analysis information methods communication skills multiple sources'"
      ]
     },
     "execution_count": 142,
     "metadata": {},
     "output_type": "execute_result"
    }
   ],
   "source": [
    "df.iloc[149]['resume_nouns']"
   ]
  },
  {
   "cell_type": "code",
   "execution_count": null,
   "metadata": {
    "collapsed": true
   },
   "outputs": [],
   "source": []
  }
 ],
 "metadata": {
  "kernelspec": {
   "display_name": "Python 3",
   "language": "python",
   "name": "python3"
  },
  "language_info": {
   "codemirror_mode": {
    "name": "ipython",
    "version": 3
   },
   "file_extension": ".py",
   "mimetype": "text/x-python",
   "name": "python",
   "nbconvert_exporter": "python",
   "pygments_lexer": "ipython3",
   "version": "3.5.2"
  }
 },
 "nbformat": 4,
 "nbformat_minor": 1
}
